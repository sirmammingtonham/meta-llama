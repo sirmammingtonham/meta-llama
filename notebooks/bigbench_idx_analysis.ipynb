{
 "cells": [
  {
   "attachments": {},
   "cell_type": "markdown",
   "metadata": {},
   "source": [
    "#### when processing big bench task datasets --> notice that size of unique indeces (idx field) != size of task dataset"
   ]
  },
  {
   "cell_type": "code",
   "execution_count": 5,
   "metadata": {},
   "outputs": [
    {
     "name": "stderr",
     "output_type": "stream",
     "text": [
      "/Users/sunil/opt/anaconda3/envs/ml/lib/python3.9/site-packages/tqdm/auto.py:22: TqdmWarning: IProgress not found. Please update jupyter and ipywidgets. See https://ipywidgets.readthedocs.io/en/stable/user_install.html\n",
      "  from .autonotebook import tqdm as notebook_tqdm\n"
     ]
    },
    {
     "name": "stdout",
     "output_type": "stream",
     "text": [
      "number mismatches: 24, total tasks: 96\n"
     ]
    }
   ],
   "source": [
    "import pandas as pd\n",
    "from datasets import load_dataset\n",
    "idx_df = pd.read_csv(\"./indx_bigbench.csv\")\n",
    "\n",
    "idx_mismatch = idx_df[(idx_df['task_size'] != idx_df['unique_indeces'])]\n",
    "print(f\"number mismatches: {len(idx_mismatch)}, total tasks: {len(idx_df)}\")"
   ]
  },
  {
   "cell_type": "code",
   "execution_count": 3,
   "metadata": {},
   "outputs": [
    {
     "data": {
      "text/html": [
       "<div>\n",
       "<style scoped>\n",
       "    .dataframe tbody tr th:only-of-type {\n",
       "        vertical-align: middle;\n",
       "    }\n",
       "\n",
       "    .dataframe tbody tr th {\n",
       "        vertical-align: top;\n",
       "    }\n",
       "\n",
       "    .dataframe thead th {\n",
       "        text-align: right;\n",
       "    }\n",
       "</style>\n",
       "<table border=\"1\" class=\"dataframe\">\n",
       "  <thead>\n",
       "    <tr style=\"text-align: right;\">\n",
       "      <th></th>\n",
       "      <th>Unnamed: 0</th>\n",
       "      <th>task</th>\n",
       "      <th>task_size</th>\n",
       "      <th>unique_indeces</th>\n",
       "    </tr>\n",
       "  </thead>\n",
       "  <tbody>\n",
       "    <tr>\n",
       "      <th>0</th>\n",
       "      <td>0</td>\n",
       "      <td>cs_algorithms</td>\n",
       "      <td>1056</td>\n",
       "      <td>800</td>\n",
       "    </tr>\n",
       "    <tr>\n",
       "      <th>1</th>\n",
       "      <td>1</td>\n",
       "      <td>bbq_lite_json</td>\n",
       "      <td>12866</td>\n",
       "      <td>1600</td>\n",
       "    </tr>\n",
       "    <tr>\n",
       "      <th>5</th>\n",
       "      <td>5</td>\n",
       "      <td>hhh_alignment</td>\n",
       "      <td>179</td>\n",
       "      <td>49</td>\n",
       "    </tr>\n",
       "    <tr>\n",
       "      <th>10</th>\n",
       "      <td>10</td>\n",
       "      <td>minute_mysteries_qa</td>\n",
       "      <td>383</td>\n",
       "      <td>220</td>\n",
       "    </tr>\n",
       "    <tr>\n",
       "      <th>16</th>\n",
       "      <td>16</td>\n",
       "      <td>intersect_geometry</td>\n",
       "      <td>50000</td>\n",
       "      <td>30473</td>\n",
       "    </tr>\n",
       "  </tbody>\n",
       "</table>\n",
       "</div>"
      ],
      "text/plain": [
       "    Unnamed: 0                 task  task_size  unique_indeces\n",
       "0            0        cs_algorithms       1056             800\n",
       "1            1        bbq_lite_json      12866            1600\n",
       "5            5        hhh_alignment        179              49\n",
       "10          10  minute_mysteries_qa        383             220\n",
       "16          16   intersect_geometry      50000           30473"
      ]
     },
     "execution_count": 3,
     "metadata": {},
     "output_type": "execute_result"
    }
   ],
   "source": [
    "idx_mismatch.head()"
   ]
  },
  {
   "cell_type": "code",
   "execution_count": 6,
   "metadata": {},
   "outputs": [
    {
     "name": "stderr",
     "output_type": "stream",
     "text": [
      "Found cached dataset bigbench (/Users/sunil/.cache/huggingface/datasets/tasksource___bigbench/cs_algorithms/1.0.0/d9f074b582e19cb8b59cbcd48e43c1c15cf316f7c774c526da2bca369f786cc3)\n",
      "Found cached dataset bigbench (/Users/sunil/.cache/huggingface/datasets/tasksource___bigbench/cs_algorithms/1.0.0/d9f074b582e19cb8b59cbcd48e43c1c15cf316f7c774c526da2bca369f786cc3)\n",
      "Found cached dataset bigbench (/Users/sunil/.cache/huggingface/datasets/tasksource___bigbench/cs_algorithms/1.0.0/d9f074b582e19cb8b59cbcd48e43c1c15cf316f7c774c526da2bca369f786cc3)\n",
      "Found cached dataset bigbench (/Users/sunil/.cache/huggingface/datasets/tasksource___bigbench/cs_algorithms/1.0.0/d9f074b582e19cb8b59cbcd48e43c1c15cf316f7c774c526da2bca369f786cc3)\n",
      "Found cached dataset bigbench (/Users/sunil/.cache/huggingface/datasets/tasksource___bigbench/cs_algorithms/1.0.0/d9f074b582e19cb8b59cbcd48e43c1c15cf316f7c774c526da2bca369f786cc3)\n",
      "Found cached dataset bigbench (/Users/sunil/.cache/huggingface/datasets/tasksource___bigbench/cs_algorithms/1.0.0/d9f074b582e19cb8b59cbcd48e43c1c15cf316f7c774c526da2bca369f786cc3)\n",
      "Found cached dataset bigbench (/Users/sunil/.cache/huggingface/datasets/tasksource___bigbench/cs_algorithms/1.0.0/d9f074b582e19cb8b59cbcd48e43c1c15cf316f7c774c526da2bca369f786cc3)\n",
      "Found cached dataset bigbench (/Users/sunil/.cache/huggingface/datasets/tasksource___bigbench/cs_algorithms/1.0.0/d9f074b582e19cb8b59cbcd48e43c1c15cf316f7c774c526da2bca369f786cc3)\n",
      "Found cached dataset bigbench (/Users/sunil/.cache/huggingface/datasets/tasksource___bigbench/cs_algorithms/1.0.0/d9f074b582e19cb8b59cbcd48e43c1c15cf316f7c774c526da2bca369f786cc3)\n",
      "Found cached dataset bigbench (/Users/sunil/.cache/huggingface/datasets/tasksource___bigbench/cs_algorithms/1.0.0/d9f074b582e19cb8b59cbcd48e43c1c15cf316f7c774c526da2bca369f786cc3)\n",
      "Found cached dataset bigbench (/Users/sunil/.cache/huggingface/datasets/tasksource___bigbench/cs_algorithms/1.0.0/d9f074b582e19cb8b59cbcd48e43c1c15cf316f7c774c526da2bca369f786cc3)\n",
      "Found cached dataset bigbench (/Users/sunil/.cache/huggingface/datasets/tasksource___bigbench/cs_algorithms/1.0.0/d9f074b582e19cb8b59cbcd48e43c1c15cf316f7c774c526da2bca369f786cc3)\n",
      "Found cached dataset bigbench (/Users/sunil/.cache/huggingface/datasets/tasksource___bigbench/cs_algorithms/1.0.0/d9f074b582e19cb8b59cbcd48e43c1c15cf316f7c774c526da2bca369f786cc3)\n",
      "Found cached dataset bigbench (/Users/sunil/.cache/huggingface/datasets/tasksource___bigbench/cs_algorithms/1.0.0/d9f074b582e19cb8b59cbcd48e43c1c15cf316f7c774c526da2bca369f786cc3)\n",
      "Found cached dataset bigbench (/Users/sunil/.cache/huggingface/datasets/tasksource___bigbench/cs_algorithms/1.0.0/d9f074b582e19cb8b59cbcd48e43c1c15cf316f7c774c526da2bca369f786cc3)\n",
      "Found cached dataset bigbench (/Users/sunil/.cache/huggingface/datasets/tasksource___bigbench/cs_algorithms/1.0.0/d9f074b582e19cb8b59cbcd48e43c1c15cf316f7c774c526da2bca369f786cc3)\n",
      "Found cached dataset bigbench (/Users/sunil/.cache/huggingface/datasets/tasksource___bigbench/cs_algorithms/1.0.0/d9f074b582e19cb8b59cbcd48e43c1c15cf316f7c774c526da2bca369f786cc3)\n",
      "Found cached dataset bigbench (/Users/sunil/.cache/huggingface/datasets/tasksource___bigbench/cs_algorithms/1.0.0/d9f074b582e19cb8b59cbcd48e43c1c15cf316f7c774c526da2bca369f786cc3)\n",
      "Found cached dataset bigbench (/Users/sunil/.cache/huggingface/datasets/tasksource___bigbench/cs_algorithms/1.0.0/d9f074b582e19cb8b59cbcd48e43c1c15cf316f7c774c526da2bca369f786cc3)\n",
      "Found cached dataset bigbench (/Users/sunil/.cache/huggingface/datasets/tasksource___bigbench/cs_algorithms/1.0.0/d9f074b582e19cb8b59cbcd48e43c1c15cf316f7c774c526da2bca369f786cc3)\n",
      "Found cached dataset bigbench (/Users/sunil/.cache/huggingface/datasets/tasksource___bigbench/cs_algorithms/1.0.0/d9f074b582e19cb8b59cbcd48e43c1c15cf316f7c774c526da2bca369f786cc3)\n",
      "Found cached dataset bigbench (/Users/sunil/.cache/huggingface/datasets/tasksource___bigbench/cs_algorithms/1.0.0/d9f074b582e19cb8b59cbcd48e43c1c15cf316f7c774c526da2bca369f786cc3)\n",
      "Found cached dataset bigbench (/Users/sunil/.cache/huggingface/datasets/tasksource___bigbench/cs_algorithms/1.0.0/d9f074b582e19cb8b59cbcd48e43c1c15cf316f7c774c526da2bca369f786cc3)\n",
      "Found cached dataset bigbench (/Users/sunil/.cache/huggingface/datasets/tasksource___bigbench/cs_algorithms/1.0.0/d9f074b582e19cb8b59cbcd48e43c1c15cf316f7c774c526da2bca369f786cc3)\n"
     ]
    }
   ],
   "source": [
    "# check for duplicates across all mismatch task datasets\n",
    "duplicates = []\n",
    "for task in idx_mismatch['task']:\n",
    "    mismatch_ds = load_dataset(\"tasksource/bigbench\", 'cs_algorithms', split='train') # tb\n",
    "    u_inputs = len(mismatch_ds.unique('inputs'))\n",
    "    if u_inputs != len(mismatch_ds):\n",
    "        print(task)\n",
    "        duplicates.append(task)"
   ]
  },
  {
   "cell_type": "code",
   "execution_count": 7,
   "metadata": {},
   "outputs": [
    {
     "name": "stdout",
     "output_type": "stream",
     "text": [
      "amount of duplicate questions across tasks with mismatch indeces: 0\n"
     ]
    }
   ],
   "source": [
    "print(f\"amount of duplicate questions across tasks with mismatch indeces: {len(duplicates)}\")"
   ]
  },
  {
   "cell_type": "code",
   "execution_count": 19,
   "metadata": {},
   "outputs": [
    {
     "name": "stderr",
     "output_type": "stream",
     "text": [
      "Found cached dataset bigbench (/Users/sunil/.cache/huggingface/datasets/tasksource___bigbench/cs_algorithms/1.0.0/d9f074b582e19cb8b59cbcd48e43c1c15cf316f7c774c526da2bca369f786cc3)\n"
     ]
    }
   ],
   "source": [
    "# example mismatch data\n",
    "mismatch_ex_tb = load_dataset(\"tasksource/bigbench\", 'cs_algorithms', split='train') # tb"
   ]
  },
  {
   "cell_type": "code",
   "execution_count": 20,
   "metadata": {},
   "outputs": [
    {
     "name": "stdout",
     "output_type": "stream",
     "text": [
      "unique idx: 800, unique inputs: 1056, size of task: 1056\n"
     ]
    }
   ],
   "source": [
    "# example\n",
    "print(f\"unique idx: {len(mismatch_ex_tb.unique('idx'))}, unique inputs: {len(mismatch_ex_tb.unique('inputs'))}, size of task: {len(mismatch_ex_tb)}\")"
   ]
  },
  {
   "cell_type": "code",
   "execution_count": 21,
   "metadata": {},
   "outputs": [
    {
     "data": {
      "text/html": [
       "<div>\n",
       "<style scoped>\n",
       "    .dataframe tbody tr th:only-of-type {\n",
       "        vertical-align: middle;\n",
       "    }\n",
       "\n",
       "    .dataframe tbody tr th {\n",
       "        vertical-align: top;\n",
       "    }\n",
       "\n",
       "    .dataframe thead th {\n",
       "        text-align: right;\n",
       "    }\n",
       "</style>\n",
       "<table border=\"1\" class=\"dataframe\">\n",
       "  <thead>\n",
       "    <tr style=\"text-align: right;\">\n",
       "      <th></th>\n",
       "      <th>inputs</th>\n",
       "      <th>targets</th>\n",
       "      <th>multiple_choice_targets</th>\n",
       "      <th>multiple_choice_scores</th>\n",
       "      <th>idx</th>\n",
       "    </tr>\n",
       "  </thead>\n",
       "  <tbody>\n",
       "    <tr>\n",
       "      <th>0</th>\n",
       "      <td>Given two strings, determine the length of the...</td>\n",
       "      <td>[8]</td>\n",
       "      <td>[0, 1, 2, 3, 4, 5, 6, 7, 8, 9]</td>\n",
       "      <td>[0, 0, 0, 0, 0, 0, 0, 0, 1, 0]</td>\n",
       "      <td>0</td>\n",
       "    </tr>\n",
       "    <tr>\n",
       "      <th>256</th>\n",
       "      <td>Determine whether the given sequence of parent...</td>\n",
       "      <td>[Invalid]</td>\n",
       "      <td>[Valid, Invalid]</td>\n",
       "      <td>[0, 1]</td>\n",
       "      <td>0</td>\n",
       "    </tr>\n",
       "  </tbody>\n",
       "</table>\n",
       "</div>"
      ],
      "text/plain": [
       "                                                inputs    targets  \\\n",
       "0    Given two strings, determine the length of the...        [8]   \n",
       "256  Determine whether the given sequence of parent...  [Invalid]   \n",
       "\n",
       "            multiple_choice_targets          multiple_choice_scores  idx  \n",
       "0    [0, 1, 2, 3, 4, 5, 6, 7, 8, 9]  [0, 0, 0, 0, 0, 0, 0, 0, 1, 0]    0  \n",
       "256                [Valid, Invalid]                          [0, 1]    0  "
      ]
     },
     "execution_count": 21,
     "metadata": {},
     "output_type": "execute_result"
    }
   ],
   "source": [
    "# example mismatch\n",
    "df = mismatch_ex_tb.to_pandas()\n",
    "df[df['idx'] == 0]"
   ]
  },
  {
   "attachments": {},
   "cell_type": "markdown",
   "metadata": {},
   "source": [
    "### conclusion: idx not unique; same idx does not imply same question\n",
    "#### solution -> use row number as true idx\n",
    "#### want to query the original row from true idx: load dataset, add column: `true_idx = [i for i in range(len(task_dataset))]`\n",
    "#### query using `true_idx`"
   ]
  },
  {
   "cell_type": "markdown",
   "metadata": {},
   "source": []
  }
 ],
 "metadata": {
  "kernelspec": {
   "display_name": "ml",
   "language": "python",
   "name": "python3"
  },
  "language_info": {
   "codemirror_mode": {
    "name": "ipython",
    "version": 3
   },
   "file_extension": ".py",
   "mimetype": "text/x-python",
   "name": "python",
   "nbconvert_exporter": "python",
   "pygments_lexer": "ipython3",
   "version": "3.9.16"
  },
  "orig_nbformat": 4
 },
 "nbformat": 4,
 "nbformat_minor": 2
}
