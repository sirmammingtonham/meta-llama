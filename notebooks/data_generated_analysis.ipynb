{
 "cells": [
  {
   "cell_type": "code",
   "execution_count": 10,
   "metadata": {},
   "outputs": [],
   "source": [
    "import json\n",
    "import pandas as pd\n",
    "from rouge_score import rouge_scorer\n",
    "from collections import defaultdict\n",
    "\n",
    "train_dir = \"../training_data/\"\n",
    "train_dir_gen = \"../training_data_generated/\"\n",
    "task = \"penguins_in_a_table\"\n",
    "df = pd.read_json(\"../training_data/penguins_in_a_table.json\").to_dict()\n",
    "df_aug = pd.read_json(\"../training_data_generated/penguins_in_a_table.json\").to_dict()"
   ]
  },
  {
   "cell_type": "code",
   "execution_count": 14,
   "metadata": {},
   "outputs": [],
   "source": [
    "with open(f\"{train_dir}/{task}.json\", \"r\") as f:\n",
    "  ds_init = json.load(f)\n",
    "f.close()\n",
    "with open(f\"{train_dir_gen}/{task}.json\", \"r\") as f:\n",
    "  existing_generated_questions = json.load(f)\n",
    "f.close()"
   ]
  },
  {
   "cell_type": "code",
   "execution_count": 13,
   "metadata": {},
   "outputs": [],
   "source": [
    "# ds_init = ds_init.extend(existing_generated_questions)"
   ]
  },
  {
   "cell_type": "code",
   "execution_count": 26,
   "metadata": {},
   "outputs": [
    {
     "data": {
      "text/plain": [
       "[]"
      ]
     },
     "execution_count": 26,
     "metadata": {},
     "output_type": "execute_result"
    }
   ],
   "source": [
    "ds_inputs = [question[\"inputs\"] for question in ds_init]\n",
    "generated_inputs = [question[\"inputs\"] for question in existing_generated_questions]\n",
    "\n",
    "scorer = rouge_scorer.RougeScorer(\n",
    "        [\"rougeL\"], use_stemmer=False\n",
    "    )  # same as self-instruct setting\n",
    "scores, excluded_qs, errs = defaultdict(list), set(), 0\n",
    "out = []\n",
    "for i, existing_q in enumerate(ds_inputs):\n",
    "    for j, new_q in enumerate(generated_inputs):\n",
    "        score = scorer.score(new_q, existing_q)[\"rougeL\"].fmeasure\n",
    "        scores[j].append((i, score))\n",
    "        if score > 0.99:\n",
    "            # self.dump_error(existing_q, self.error_file)\n",
    "            # excluded_qs.add(j)\n",
    "            out.append([i,j, existing_q, new_q])\n",
    "            errs += 1\n",
    "\n",
    "out"
   ]
  },
  {
   "cell_type": "code",
   "execution_count": 22,
   "metadata": {},
   "outputs": [
    {
     "data": {
      "text/plain": [
       "21"
      ]
     },
     "execution_count": 22,
     "metadata": {},
     "output_type": "execute_result"
    }
   ],
   "source": [
    "errs"
   ]
  },
  {
   "cell_type": "code",
   "execution_count": 27,
   "metadata": {},
   "outputs": [],
   "source": [
    "total_qs=10\n",
    "prompt = f\"Generate a series of {total_qs} diverse questions related to TASK DESCRIPTION in a JSON format with the following schema:\"\n",
    "prompt += \"\"\"\n",
    "```\n",
    "{\n",
    "  \"$schema\": \"http://json-schema.org/draft-04/schema#\",\n",
    "  \"type\": \"object\",\n",
    "  \"properties\": {\n",
    "    \"inputs\": {\n",
    "      \"type\": \"string\"\n",
    "    },\n",
    "    \"targets\": {\n",
    "      \"type\": \"array\",\n",
    "      \"items\": {\n",
    "        \"type\": \"string\"\n",
    "      }\n",
    "    },\n",
    "    \"multiple_choice_targets\": {\n",
    "      \"type\": \"array\",\n",
    "      \"items\": {\n",
    "        \"type\": \"string\"\n",
    "      }\n",
    "    }\n",
    "  },\n",
    "  \"required\": [\"inputs\", \"targets\", \"multiple_choice_targets\"]\n",
    "}\n",
    "```\"\"\""
   ]
  },
  {
   "cell_type": "code",
   "execution_count": 29,
   "metadata": {},
   "outputs": [
    {
     "name": "stdout",
     "output_type": "stream",
     "text": [
      "Generate a series of 10 diverse questions related to TASK DESCRIPTION in a JSON format with the following schema:\n",
      "```\n",
      "{\n",
      "  \"$schema\": \"http://json-schema.org/draft-04/schema#\",\n",
      "  \"type\": \"object\",\n",
      "  \"properties\": {\n",
      "    \"inputs\": {\n",
      "      \"type\": \"string\"\n",
      "    },\n",
      "    \"targets\": {\n",
      "      \"type\": \"array\",\n",
      "      \"items\": {\n",
      "        \"type\": \"string\"\n",
      "      }\n",
      "    },\n",
      "    \"multiple_choice_targets\": {\n",
      "      \"type\": \"array\",\n",
      "      \"items\": {\n",
      "        \"type\": \"string\"\n",
      "      }\n",
      "    }\n",
      "  },\n",
      "  \"required\": [\"inputs\", \"targets\", \"multiple_choice_targets\"]\n",
      "}\n",
      "```\n"
     ]
    }
   ],
   "source": [
    "print(prompt)"
   ]
  },
  {
   "cell_type": "code",
   "execution_count": null,
   "metadata": {},
   "outputs": [],
   "source": []
  }
 ],
 "metadata": {
  "kernelspec": {
   "display_name": "ml",
   "language": "python",
   "name": "python3"
  },
  "language_info": {
   "codemirror_mode": {
    "name": "ipython",
    "version": 3
   },
   "file_extension": ".py",
   "mimetype": "text/x-python",
   "name": "python",
   "nbconvert_exporter": "python",
   "pygments_lexer": "ipython3",
   "version": "3.9.16"
  },
  "orig_nbformat": 4
 },
 "nbformat": 4,
 "nbformat_minor": 2
}
