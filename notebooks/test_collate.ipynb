{
  "cells": [
    {
      "cell_type": "code",
      "execution_count": 93,
      "metadata": {
        "id": "-wSeZL14pomi"
      },
      "outputs": [],
      "source": [
        "from datasets import Dataset, load_dataset\n",
        "from dataclasses import dataclass\n",
        "from typing import List, Dict, Any\n",
        "from transformers import PreTrainedTokenizerBase\n",
        "from torch.utils.data.dataset import Dataset\n",
        "from torch.utils.data import DataLoader\n",
        "import itertools\n",
        "\n",
        "import torch\n",
        "import numpy as np"
      ]
    },
    {
      "cell_type": "code",
      "execution_count": 94,
      "metadata": {
        "colab": {
          "base_uri": "https://localhost:8080/"
        },
        "id": "pfD8ZzvKpry-",
        "outputId": "2cbff75c-0e63-44d3-e023-4afe33aca15e"
      },
      "outputs": [
        {
          "name": "stderr",
          "output_type": "stream",
          "text": [
            "WARNING:datasets.builder:Found cached dataset bigbench (/root/.cache/huggingface/datasets/tasksource___bigbench/movie_recommendation/1.0.0/d9f074b582e19cb8b59cbcd48e43c1c15cf316f7c774c526da2bca369f786cc3)\n"
          ]
        }
      ],
      "source": [
        "ds = load_dataset('tasksource/bigbench', 'movie_recommendation', split=\"train[:100]\")"
      ]
    },
    {
      "cell_type": "code",
      "execution_count": 95,
      "metadata": {
        "colab": {
          "base_uri": "https://localhost:8080/"
        },
        "id": "LqfBgJ1wp0PL",
        "outputId": "57e89d44-482f-4dfe-e385-b845dc4af6af"
      },
      "outputs": [
        {
          "data": {
            "text/plain": [
              "{'inputs': 'Find a movie similar to Batman, The Mask, The Fugitive, Pretty Woman:\\n  choice: Maelstrom\\n  choice: The Lion King\\n  choice: Lamerica\\n  choice: The Front Page',\n",
              " 'targets': ['The Lion King'],\n",
              " 'multiple_choice_targets': ['The Front Page',\n",
              "  'Maelstrom',\n",
              "  'The Lion King',\n",
              "  'Lamerica'],\n",
              " 'multiple_choice_scores': [0, 0, 1, 0],\n",
              " 'idx': 0}"
            ]
          },
          "execution_count": 95,
          "metadata": {},
          "output_type": "execute_result"
        }
      ],
      "source": [
        "ds[0]"
      ]
    },
    {
      "cell_type": "code",
      "execution_count": 96,
      "metadata": {
        "id": "rnVNjjfaqXuC"
      },
      "outputs": [],
      "source": [
        "from transformers import AutoTokenizer\n",
        "\n",
        "tokenizer = AutoTokenizer.from_pretrained('gpt2')\n",
        "tokenizer.pad_token = tokenizer.eos_token"
      ]
    },
    {
      "cell_type": "code",
      "execution_count": 193,
      "metadata": {
        "id": "Wae8BBt3qPN8"
      },
      "outputs": [],
      "source": [
        "def preprocess_dataset(\n",
        "    ds, tokenizer, method=\"direct\", num_procs=8\n",
        "):\n",
        "    def preprocess_function(examples):\n",
        "        \"\"\"\n",
        "        * tokenizes dataset\n",
        "        * token_type_ids are 1 where there are label tokens and 0 otherwise\n",
        "        \"\"\"\n",
        "        inputs = tokenizer(\n",
        "            [inputs + \" \\n\\n\" for inputs in examples[\"inputs\"]], add_special_tokens=False\n",
        "        )\n",
        "        targets = tokenizer(\n",
        "            [\" \".join(targets) + \" \\n\\n\\n\" for targets in examples[\"targets\"]],\n",
        "            add_special_tokens=False,\n",
        "        )\n",
        "\n",
        "        # flip the location of inputs and targets for channel method\n",
        "        if method == \"channel\":\n",
        "            inputs, targets = targets, inputs\n",
        "\n",
        "        outputs = {\n",
        "            \"input_ids\": [],\n",
        "            \"attention_mask\": [],\n",
        "            \"token_type_ids\": [],\n",
        "        }\n",
        "\n",
        "        for i in range(len(inputs[\"input_ids\"])):\n",
        "            outputs[\"input_ids\"].append(\n",
        "                inputs[\"input_ids\"][i] + targets[\"input_ids\"][i]\n",
        "            )\n",
        "            outputs[\"attention_mask\"].append(\n",
        "                inputs[\"attention_mask\"][i] + targets[\"attention_mask\"][i]\n",
        "            )\n",
        "            outputs[\"token_type_ids\"].append(\n",
        "                [0] * len(inputs[\"input_ids\"][i])\n",
        "                + [1] * (len(targets[\"input_ids\"][i])-2)\n",
        "                + [0, 0]\n",
        "            )\n",
        "\n",
        "        return outputs\n",
        "\n",
        "    ds = ds.map(\n",
        "        preprocess_function,\n",
        "        remove_columns=ds.column_names,\n",
        "        batched=True,\n",
        "        num_proc=num_procs,\n",
        "    )\n",
        "    return ds"
      ]
    },
    {
      "cell_type": "code",
      "execution_count": 194,
      "metadata": {
        "colab": {
          "base_uri": "https://localhost:8080/"
        },
        "id": "MDDDSYEEqby8",
        "outputId": "60c03946-ddc3-4701-a9cd-a89836962761"
      },
      "outputs": [
        {
          "name": "stderr",
          "output_type": "stream",
          "text": [
            "WARNING:datasets.arrow_dataset:Loading cached processed dataset at /root/.cache/huggingface/datasets/tasksource___bigbench/movie_recommendation/1.0.0/d9f074b582e19cb8b59cbcd48e43c1c15cf316f7c774c526da2bca369f786cc3/cache-412fc1ee7d4e998c_*_of_00008.arrow\n"
          ]
        }
      ],
      "source": [
        "pds = preprocess_dataset(ds, tokenizer, method='direct')"
      ]
    },
    {
      "cell_type": "code",
      "execution_count": 195,
      "metadata": {
        "colab": {
          "base_uri": "https://localhost:8080/"
        },
        "id": "MNmGFwpcqjfY",
        "outputId": "1bf27c5d-75ba-4cd5-a4cd-842f6aabbdb7"
      },
      "outputs": [
        {
          "name": "stdout",
          "output_type": "stream",
          "text": [
            "Find a movie similar to Batman, The Mask, The Fugitive, Pretty Woman:\n",
            "  choice: Maelstrom\n",
            "  choice: The Lion King\n",
            "  choice: Lamerica\n",
            "  choice: The Front Page \n",
            "\n",
            "The Lion King \n",
            "\n",
            "\n",
            "\n"
          ]
        }
      ],
      "source": [
        "print(tokenizer.decode(pds[0]['input_ids']))"
      ]
    },
    {
      "cell_type": "code",
      "execution_count": 197,
      "metadata": {
        "colab": {
          "base_uri": "https://localhost:8080/"
        },
        "id": "wECL_ngwxNAv",
        "outputId": "4dd57099-831b-4322-ee6d-429dcd993777"
      },
      "outputs": [
        {
          "name": "stdout",
          "output_type": "stream",
          "text": [
            "53 53 53\n",
            "67 67 67\n",
            "60 60 60\n",
            "60 60 60\n",
            "58 58 58\n",
            "60 60 60\n",
            "66 66 66\n",
            "65 65 65\n",
            "61 61 61\n",
            "79 79 79\n",
            "68 68 68\n",
            "68 68 68\n",
            "58 58 58\n",
            "59 59 59\n",
            "59 59 59\n",
            "57 57 57\n",
            "67 67 67\n",
            "71 71 71\n",
            "60 60 60\n",
            "61 61 61\n",
            "60 60 60\n",
            "63 63 63\n",
            "77 77 77\n",
            "56 56 56\n",
            "71 71 71\n",
            "54 54 54\n",
            "54 54 54\n",
            "71 71 71\n",
            "52 52 52\n",
            "61 61 61\n",
            "64 64 64\n",
            "57 57 57\n",
            "61 61 61\n",
            "64 64 64\n",
            "74 74 74\n",
            "78 78 78\n",
            "62 62 62\n",
            "58 58 58\n",
            "60 60 60\n",
            "50 50 50\n",
            "50 50 50\n",
            "67 67 67\n",
            "65 65 65\n",
            "63 63 63\n",
            "60 60 60\n",
            "64 64 64\n",
            "66 66 66\n",
            "56 56 56\n",
            "66 66 66\n",
            "64 64 64\n",
            "79 79 79\n",
            "67 67 67\n",
            "57 57 57\n",
            "65 65 65\n",
            "52 52 52\n",
            "72 72 72\n",
            "73 73 73\n",
            "77 77 77\n",
            "73 73 73\n",
            "64 64 64\n",
            "67 67 67\n",
            "60 60 60\n",
            "58 58 58\n",
            "61 61 61\n",
            "65 65 65\n",
            "65 65 65\n",
            "56 56 56\n",
            "61 61 61\n",
            "62 62 62\n",
            "59 59 59\n",
            "68 68 68\n",
            "64 64 64\n",
            "55 55 55\n",
            "63 63 63\n",
            "65 65 65\n",
            "71 71 71\n",
            "61 61 61\n",
            "69 69 69\n",
            "56 56 56\n",
            "71 71 71\n",
            "68 68 68\n",
            "67 67 67\n",
            "67 67 67\n",
            "63 63 63\n",
            "61 61 61\n",
            "72 72 72\n",
            "68 68 68\n",
            "55 55 55\n",
            "76 76 76\n",
            "74 74 74\n",
            "60 60 60\n",
            "62 62 62\n",
            "71 71 71\n",
            "69 69 69\n",
            "63 63 63\n",
            "59 59 59\n",
            "61 61 61\n",
            "61 61 61\n",
            "59 59 59\n",
            "49 49 49\n"
          ]
        }
      ],
      "source": [
        "for i in range(len(pds)):\n",
        "    print(len(pds[i]['input_ids']), len(pds[i]['attention_mask']), len(pds[i]['token_type_ids']))"
      ]
    },
    {
      "cell_type": "code",
      "execution_count": 198,
      "metadata": {
        "colab": {
          "base_uri": "https://localhost:8080/",
          "height": 35
        },
        "id": "QChpmuO_vCUz",
        "outputId": "9cc123e3-a499-4756-d1a6-098ac9eec089"
      },
      "outputs": [
        {
          "data": {
            "application/vnd.google.colaboratory.intrinsic+json": {
              "type": "string"
            },
            "text/plain": [
              "'!!!!!!!!!!!!!!!!!!!!!!!!!!!!!!!!!!!!!!!!!!!!!!!The Lion King!!'"
            ]
          },
          "execution_count": 198,
          "metadata": {},
          "output_type": "execute_result"
        }
      ],
      "source": [
        "tokenizer.decode(np.array(pds[0]['input_ids'])*np.array(pds[0]['token_type_ids']))"
      ]
    },
    {
      "cell_type": "code",
      "execution_count": 199,
      "metadata": {
        "id": "SRtk4lC_sN-l"
      },
      "outputs": [],
      "source": [
        "@dataclass\n",
        "class ICLCollator:\n",
        "    tokenizer: PreTrainedTokenizerBase\n",
        "    batch_size: int = 1\n",
        "    max_length: int = 1024\n",
        "    return_tensors: str = \"pt\"\n",
        "\n",
        "    def __call__(self, features: List[Dict[str, Any]]) -> Dict[str, Any]:\n",
        "        \"\"\"\n",
        "        * creates batches for in context/few shot learning\n",
        "        \"\"\"\n",
        "        batch = {\"input_ids\": [], \"attention_mask\": [], \"token_type_ids\": []}\n",
        "\n",
        "        for i in range(0, len(features), k):\n",
        "            batch[\"input_ids\"].append(\n",
        "                list(itertools.chain.from_iterable(\n",
        "                    example[\"input_ids\"]\n",
        "                    for example in features[i : i + k]\n",
        "                ))\n",
        "            )\n",
        "            batch[\"attention_mask\"].append(\n",
        "                list(itertools.chain.from_iterable(\n",
        "                    example[\"attention_mask\"]\n",
        "                    for example in features[i : i + k]\n",
        "                ))\n",
        "            )\n",
        "            batch[\"token_type_ids\"].append(\n",
        "                list(itertools.chain.from_iterable(\n",
        "                    example[\"token_type_ids\"]\n",
        "                    for example in features[i : i + k]\n",
        "                ))\n",
        "            )\n",
        "\n",
        "        batch = self.tokenizer.pad(\n",
        "            batch,\n",
        "            padding=\"longest\",\n",
        "            max_length=self.max_length,\n",
        "            pad_to_multiple_of=None,\n",
        "            return_tensors=self.return_tensors,\n",
        "        )\n",
        "\n",
        "        return batch"
      ]
    },
    {
      "cell_type": "code",
      "execution_count": 200,
      "metadata": {
        "id": "chLtOvZstAv1"
      },
      "outputs": [],
      "source": [
        "k=3\n",
        "batch_size=8"
      ]
    },
    {
      "cell_type": "code",
      "execution_count": 201,
      "metadata": {
        "id": "wuc-l6iIswA2"
      },
      "outputs": [],
      "source": [
        "collate_fn = ICLCollator(tokenizer, batch_size=batch_size)\n",
        "dataloader = DataLoader(pds, batch_size=k*batch_size, collate_fn=collate_fn)"
      ]
    },
    {
      "cell_type": "code",
      "execution_count": 202,
      "metadata": {
        "id": "ysGxhUXos8ty"
      },
      "outputs": [],
      "source": [
        "dataloader = DataLoader(pds, batch_size=k*batch_size, collate_fn=collate_fn)"
      ]
    },
    {
      "cell_type": "code",
      "execution_count": 203,
      "metadata": {
        "id": "3MgKJtlQtOmi"
      },
      "outputs": [],
      "source": [
        "data = next(iter(dataloader))"
      ]
    },
    {
      "cell_type": "code",
      "execution_count": 204,
      "metadata": {
        "colab": {
          "base_uri": "https://localhost:8080/"
        },
        "id": "I0rnJfo-uD3u",
        "outputId": "25eeddb2-544d-4e69-9ac8-64feeb70be53"
      },
      "outputs": [
        {
          "data": {
            "text/plain": [
              "torch.Size([8, 215])"
            ]
          },
          "execution_count": 204,
          "metadata": {},
          "output_type": "execute_result"
        }
      ],
      "source": [
        "data['input_ids'].shape"
      ]
    },
    {
      "cell_type": "code",
      "execution_count": 205,
      "metadata": {
        "colab": {
          "base_uri": "https://localhost:8080/"
        },
        "id": "_uNZ6gqfufAi",
        "outputId": "94b23359-595c-458d-cf24-4ffc1e636649"
      },
      "outputs": [
        {
          "name": "stdout",
          "output_type": "stream",
          "text": [
            "Find a movie similar to Batman, The Mask, The Fugitive, Pretty Woman:\n",
            "  choice: Maelstrom\n",
            "  choice: The Lion King\n",
            "  choice: Lamerica\n",
            "  choice: The Front Page \n",
            "\n",
            "The Lion King \n",
            "\n",
            "\n",
            "Find a movie similar to The Sixth Sense, The Matrix, Forrest Gump, The Shawshank Redemption:\n",
            "  choice: Terminator 2 Judgment Day\n",
            "  choice: The Sheltering Sky\n",
            "  choice: Street Fighter II The Animated Movie\n",
            "  choice: The Boy Who Could Fly \n",
            "\n",
            "Terminator 2 Judgment Day \n",
            "\n",
            "\n",
            "Find a movie similar to Schindler's List, Braveheart, The Silence of the Lambs, Tombstone:\n",
            "  choice: Forrest Gump\n",
            "  choice: Orlando\n",
            "  choice: All the Real Girls\n",
            "  choice: Guilty of Romance \n",
            "\n",
            "Forrest Gump \n",
            "\n",
            "\n",
            "\n"
          ]
        }
      ],
      "source": [
        "print(tokenizer.batch_decode(data['input_ids'], skip_special_tokens=True)[0])"
      ]
    },
    {
      "cell_type": "code",
      "execution_count": 206,
      "metadata": {
        "colab": {
          "base_uri": "https://localhost:8080/"
        },
        "id": "gOY_exTqwt6j",
        "outputId": "1901c6c4-7be9-442f-a137-70e430229c68"
      },
      "outputs": [
        {
          "name": "stdout",
          "output_type": "stream",
          "text": [
            "!!!!!!!!!!!!!!!!!!!!!!!!!!!!!!!!!!!!!!!!!!!!!!!The Lion King!!!!!!!!!!!!!!!!!!!!!!!!!!!!!!!!!!!!!!!!!!!!!!!!!!!!!!!!!!!!!Terminator 2 Judgment Day!!!!!!!!!!!!!!!!!!!!!!!!!!!!!!!!!!!!!!!!!!!!!!!!!!!!!!!Forrest Gump!!!!!!!!!!!!!!!!!!!!!!!!!!!!!!!!!!!!!\n"
          ]
        }
      ],
      "source": [
        "print(tokenizer.batch_decode(data['input_ids'] * data['token_type_ids'], skip_special_tokens=True)[0])"
      ]
    }
  ],
  "metadata": {
    "accelerator": "GPU",
    "colab": {
      "provenance": []
    },
    "gpuClass": "standard",
    "kernelspec": {
      "display_name": "Python 3",
      "name": "python3"
    },
    "language_info": {
      "name": "python"
    },
    "widgets": {
      "application/vnd.jupyter.widget-state+json": {
        "1711a58631bf4aa0a7cca565dc2c05d8": {
          "model_module": "@jupyter-widgets/controls",
          "model_module_version": "1.5.0",
          "model_name": "ProgressStyleModel",
          "state": {
            "_model_module": "@jupyter-widgets/controls",
            "_model_module_version": "1.5.0",
            "_model_name": "ProgressStyleModel",
            "_view_count": null,
            "_view_module": "@jupyter-widgets/base",
            "_view_module_version": "1.2.0",
            "_view_name": "StyleView",
            "bar_color": null,
            "description_width": ""
          }
        },
        "1aa770e4f123451dbc4f6d9af83c5dc1": {
          "model_module": "@jupyter-widgets/controls",
          "model_module_version": "1.5.0",
          "model_name": "HTMLModel",
          "state": {
            "_dom_classes": [],
            "_model_module": "@jupyter-widgets/controls",
            "_model_module_version": "1.5.0",
            "_model_name": "HTMLModel",
            "_view_count": null,
            "_view_module": "@jupyter-widgets/controls",
            "_view_module_version": "1.5.0",
            "_view_name": "HTMLView",
            "description": "",
            "description_tooltip": null,
            "layout": "IPY_MODEL_e376d92cbe024ed08dc9a0224071bcf1",
            "placeholder": "​",
            "style": "IPY_MODEL_70b0de0159114cab95f9046930925122",
            "value": "Downloading (…)neration_config.json: 100%"
          }
        },
        "231b0c5ea2e04095b46f7951d98c51b7": {
          "model_module": "@jupyter-widgets/controls",
          "model_module_version": "1.5.0",
          "model_name": "HTMLModel",
          "state": {
            "_dom_classes": [],
            "_model_module": "@jupyter-widgets/controls",
            "_model_module_version": "1.5.0",
            "_model_name": "HTMLModel",
            "_view_count": null,
            "_view_module": "@jupyter-widgets/controls",
            "_view_module_version": "1.5.0",
            "_view_name": "HTMLView",
            "description": "",
            "description_tooltip": null,
            "layout": "IPY_MODEL_239f299a00a74e02993b443cbd7daea4",
            "placeholder": "​",
            "style": "IPY_MODEL_8b6531eca478481483e6a7d7c7ca7de1",
            "value": " 3.25G/3.25G [00:48&lt;00:00, 73.7MB/s]"
          }
        },
        "239f299a00a74e02993b443cbd7daea4": {
          "model_module": "@jupyter-widgets/base",
          "model_module_version": "1.2.0",
          "model_name": "LayoutModel",
          "state": {
            "_model_module": "@jupyter-widgets/base",
            "_model_module_version": "1.2.0",
            "_model_name": "LayoutModel",
            "_view_count": null,
            "_view_module": "@jupyter-widgets/base",
            "_view_module_version": "1.2.0",
            "_view_name": "LayoutView",
            "align_content": null,
            "align_items": null,
            "align_self": null,
            "border": null,
            "bottom": null,
            "display": null,
            "flex": null,
            "flex_flow": null,
            "grid_area": null,
            "grid_auto_columns": null,
            "grid_auto_flow": null,
            "grid_auto_rows": null,
            "grid_column": null,
            "grid_gap": null,
            "grid_row": null,
            "grid_template_areas": null,
            "grid_template_columns": null,
            "grid_template_rows": null,
            "height": null,
            "justify_content": null,
            "justify_items": null,
            "left": null,
            "margin": null,
            "max_height": null,
            "max_width": null,
            "min_height": null,
            "min_width": null,
            "object_fit": null,
            "object_position": null,
            "order": null,
            "overflow": null,
            "overflow_x": null,
            "overflow_y": null,
            "padding": null,
            "right": null,
            "top": null,
            "visibility": null,
            "width": null
          }
        },
        "3110741a7e2642798e0378fa9d633707": {
          "model_module": "@jupyter-widgets/controls",
          "model_module_version": "1.5.0",
          "model_name": "HTMLModel",
          "state": {
            "_dom_classes": [],
            "_model_module": "@jupyter-widgets/controls",
            "_model_module_version": "1.5.0",
            "_model_name": "HTMLModel",
            "_view_count": null,
            "_view_module": "@jupyter-widgets/controls",
            "_view_module_version": "1.5.0",
            "_view_name": "HTMLView",
            "description": "",
            "description_tooltip": null,
            "layout": "IPY_MODEL_855d7e10dd4948a984e94aacd822df25",
            "placeholder": "​",
            "style": "IPY_MODEL_c6adad1f41c64441bbd40860ad93eae1",
            "value": " 124/124 [00:00&lt;00:00, 6.69kB/s]"
          }
        },
        "35261ad936a7447e971a5b89fd224a84": {
          "model_module": "@jupyter-widgets/base",
          "model_module_version": "1.2.0",
          "model_name": "LayoutModel",
          "state": {
            "_model_module": "@jupyter-widgets/base",
            "_model_module_version": "1.2.0",
            "_model_name": "LayoutModel",
            "_view_count": null,
            "_view_module": "@jupyter-widgets/base",
            "_view_module_version": "1.2.0",
            "_view_name": "LayoutView",
            "align_content": null,
            "align_items": null,
            "align_self": null,
            "border": null,
            "bottom": null,
            "display": null,
            "flex": null,
            "flex_flow": null,
            "grid_area": null,
            "grid_auto_columns": null,
            "grid_auto_flow": null,
            "grid_auto_rows": null,
            "grid_column": null,
            "grid_gap": null,
            "grid_row": null,
            "grid_template_areas": null,
            "grid_template_columns": null,
            "grid_template_rows": null,
            "height": null,
            "justify_content": null,
            "justify_items": null,
            "left": null,
            "margin": null,
            "max_height": null,
            "max_width": null,
            "min_height": null,
            "min_width": null,
            "object_fit": null,
            "object_position": null,
            "order": null,
            "overflow": null,
            "overflow_x": null,
            "overflow_y": null,
            "padding": null,
            "right": null,
            "top": null,
            "visibility": null,
            "width": null
          }
        },
        "37d1fddd57c5427f863c91676a492273": {
          "model_module": "@jupyter-widgets/controls",
          "model_module_version": "1.5.0",
          "model_name": "FloatProgressModel",
          "state": {
            "_dom_classes": [],
            "_model_module": "@jupyter-widgets/controls",
            "_model_module_version": "1.5.0",
            "_model_name": "FloatProgressModel",
            "_view_count": null,
            "_view_module": "@jupyter-widgets/controls",
            "_view_module_version": "1.5.0",
            "_view_name": "ProgressView",
            "bar_style": "success",
            "description": "",
            "description_tooltip": null,
            "layout": "IPY_MODEL_887c72752fa14e768ec08e1121784e04",
            "max": 124,
            "min": 0,
            "orientation": "horizontal",
            "style": "IPY_MODEL_1711a58631bf4aa0a7cca565dc2c05d8",
            "value": 124
          }
        },
        "3af0375e69e745d8bbe439252684b2f9": {
          "model_module": "@jupyter-widgets/base",
          "model_module_version": "1.2.0",
          "model_name": "LayoutModel",
          "state": {
            "_model_module": "@jupyter-widgets/base",
            "_model_module_version": "1.2.0",
            "_model_name": "LayoutModel",
            "_view_count": null,
            "_view_module": "@jupyter-widgets/base",
            "_view_module_version": "1.2.0",
            "_view_name": "LayoutView",
            "align_content": null,
            "align_items": null,
            "align_self": null,
            "border": null,
            "bottom": null,
            "display": null,
            "flex": null,
            "flex_flow": null,
            "grid_area": null,
            "grid_auto_columns": null,
            "grid_auto_flow": null,
            "grid_auto_rows": null,
            "grid_column": null,
            "grid_gap": null,
            "grid_row": null,
            "grid_template_areas": null,
            "grid_template_columns": null,
            "grid_template_rows": null,
            "height": null,
            "justify_content": null,
            "justify_items": null,
            "left": null,
            "margin": null,
            "max_height": null,
            "max_width": null,
            "min_height": null,
            "min_width": null,
            "object_fit": null,
            "object_position": null,
            "order": null,
            "overflow": null,
            "overflow_x": null,
            "overflow_y": null,
            "padding": null,
            "right": null,
            "top": null,
            "visibility": null,
            "width": null
          }
        },
        "3e8bb1443c114b61a228ee449a55af54": {
          "model_module": "@jupyter-widgets/controls",
          "model_module_version": "1.5.0",
          "model_name": "DescriptionStyleModel",
          "state": {
            "_model_module": "@jupyter-widgets/controls",
            "_model_module_version": "1.5.0",
            "_model_name": "DescriptionStyleModel",
            "_view_count": null,
            "_view_module": "@jupyter-widgets/base",
            "_view_module_version": "1.2.0",
            "_view_name": "StyleView",
            "description_width": ""
          }
        },
        "419b77ae792342aeb1c95512013c97eb": {
          "model_module": "@jupyter-widgets/controls",
          "model_module_version": "1.5.0",
          "model_name": "HTMLModel",
          "state": {
            "_dom_classes": [],
            "_model_module": "@jupyter-widgets/controls",
            "_model_module_version": "1.5.0",
            "_model_name": "HTMLModel",
            "_view_count": null,
            "_view_module": "@jupyter-widgets/controls",
            "_view_module_version": "1.5.0",
            "_view_name": "HTMLView",
            "description": "",
            "description_tooltip": null,
            "layout": "IPY_MODEL_81c50f9d826148b48e38b659c8127b7a",
            "placeholder": "​",
            "style": "IPY_MODEL_786bb3839a5a4af89da89d378dd00f04",
            "value": "Downloading pytorch_model.bin: 100%"
          }
        },
        "4a8816c811174595869035bc5a0be7ed": {
          "model_module": "@jupyter-widgets/controls",
          "model_module_version": "1.5.0",
          "model_name": "DescriptionStyleModel",
          "state": {
            "_model_module": "@jupyter-widgets/controls",
            "_model_module_version": "1.5.0",
            "_model_name": "DescriptionStyleModel",
            "_view_count": null,
            "_view_module": "@jupyter-widgets/base",
            "_view_module_version": "1.2.0",
            "_view_name": "StyleView",
            "description_width": ""
          }
        },
        "57e5d9da4e574cb6855f922341f9c9c1": {
          "model_module": "@jupyter-widgets/controls",
          "model_module_version": "1.5.0",
          "model_name": "HTMLModel",
          "state": {
            "_dom_classes": [],
            "_model_module": "@jupyter-widgets/controls",
            "_model_module_version": "1.5.0",
            "_model_name": "HTMLModel",
            "_view_count": null,
            "_view_module": "@jupyter-widgets/controls",
            "_view_module_version": "1.5.0",
            "_view_name": "HTMLView",
            "description": "",
            "description_tooltip": null,
            "layout": "IPY_MODEL_e11702c268614f2f887153b255c14a1a",
            "placeholder": "​",
            "style": "IPY_MODEL_3e8bb1443c114b61a228ee449a55af54",
            "value": " 666/666 [00:00&lt;00:00, 44.5kB/s]"
          }
        },
        "61742063c5c146d78f4134d305a50d4b": {
          "model_module": "@jupyter-widgets/base",
          "model_module_version": "1.2.0",
          "model_name": "LayoutModel",
          "state": {
            "_model_module": "@jupyter-widgets/base",
            "_model_module_version": "1.2.0",
            "_model_name": "LayoutModel",
            "_view_count": null,
            "_view_module": "@jupyter-widgets/base",
            "_view_module_version": "1.2.0",
            "_view_name": "LayoutView",
            "align_content": null,
            "align_items": null,
            "align_self": null,
            "border": null,
            "bottom": null,
            "display": null,
            "flex": null,
            "flex_flow": null,
            "grid_area": null,
            "grid_auto_columns": null,
            "grid_auto_flow": null,
            "grid_auto_rows": null,
            "grid_column": null,
            "grid_gap": null,
            "grid_row": null,
            "grid_template_areas": null,
            "grid_template_columns": null,
            "grid_template_rows": null,
            "height": null,
            "justify_content": null,
            "justify_items": null,
            "left": null,
            "margin": null,
            "max_height": null,
            "max_width": null,
            "min_height": null,
            "min_width": null,
            "object_fit": null,
            "object_position": null,
            "order": null,
            "overflow": null,
            "overflow_x": null,
            "overflow_y": null,
            "padding": null,
            "right": null,
            "top": null,
            "visibility": null,
            "width": null
          }
        },
        "70b0de0159114cab95f9046930925122": {
          "model_module": "@jupyter-widgets/controls",
          "model_module_version": "1.5.0",
          "model_name": "DescriptionStyleModel",
          "state": {
            "_model_module": "@jupyter-widgets/controls",
            "_model_module_version": "1.5.0",
            "_model_name": "DescriptionStyleModel",
            "_view_count": null,
            "_view_module": "@jupyter-widgets/base",
            "_view_module_version": "1.2.0",
            "_view_name": "StyleView",
            "description_width": ""
          }
        },
        "786bb3839a5a4af89da89d378dd00f04": {
          "model_module": "@jupyter-widgets/controls",
          "model_module_version": "1.5.0",
          "model_name": "DescriptionStyleModel",
          "state": {
            "_model_module": "@jupyter-widgets/controls",
            "_model_module_version": "1.5.0",
            "_model_name": "DescriptionStyleModel",
            "_view_count": null,
            "_view_module": "@jupyter-widgets/base",
            "_view_module_version": "1.2.0",
            "_view_name": "StyleView",
            "description_width": ""
          }
        },
        "78e2fb60ddb24f71a9c2a90f3d97ed05": {
          "model_module": "@jupyter-widgets/controls",
          "model_module_version": "1.5.0",
          "model_name": "ProgressStyleModel",
          "state": {
            "_model_module": "@jupyter-widgets/controls",
            "_model_module_version": "1.5.0",
            "_model_name": "ProgressStyleModel",
            "_view_count": null,
            "_view_module": "@jupyter-widgets/base",
            "_view_module_version": "1.2.0",
            "_view_name": "StyleView",
            "bar_color": null,
            "description_width": ""
          }
        },
        "7de0d2f8ce5143b3879c4beda1db9c66": {
          "model_module": "@jupyter-widgets/controls",
          "model_module_version": "1.5.0",
          "model_name": "HBoxModel",
          "state": {
            "_dom_classes": [],
            "_model_module": "@jupyter-widgets/controls",
            "_model_module_version": "1.5.0",
            "_model_name": "HBoxModel",
            "_view_count": null,
            "_view_module": "@jupyter-widgets/controls",
            "_view_module_version": "1.5.0",
            "_view_name": "HBoxView",
            "box_style": "",
            "children": [
              "IPY_MODEL_1aa770e4f123451dbc4f6d9af83c5dc1",
              "IPY_MODEL_37d1fddd57c5427f863c91676a492273",
              "IPY_MODEL_3110741a7e2642798e0378fa9d633707"
            ],
            "layout": "IPY_MODEL_3af0375e69e745d8bbe439252684b2f9"
          }
        },
        "81c50f9d826148b48e38b659c8127b7a": {
          "model_module": "@jupyter-widgets/base",
          "model_module_version": "1.2.0",
          "model_name": "LayoutModel",
          "state": {
            "_model_module": "@jupyter-widgets/base",
            "_model_module_version": "1.2.0",
            "_model_name": "LayoutModel",
            "_view_count": null,
            "_view_module": "@jupyter-widgets/base",
            "_view_module_version": "1.2.0",
            "_view_name": "LayoutView",
            "align_content": null,
            "align_items": null,
            "align_self": null,
            "border": null,
            "bottom": null,
            "display": null,
            "flex": null,
            "flex_flow": null,
            "grid_area": null,
            "grid_auto_columns": null,
            "grid_auto_flow": null,
            "grid_auto_rows": null,
            "grid_column": null,
            "grid_gap": null,
            "grid_row": null,
            "grid_template_areas": null,
            "grid_template_columns": null,
            "grid_template_rows": null,
            "height": null,
            "justify_content": null,
            "justify_items": null,
            "left": null,
            "margin": null,
            "max_height": null,
            "max_width": null,
            "min_height": null,
            "min_width": null,
            "object_fit": null,
            "object_position": null,
            "order": null,
            "overflow": null,
            "overflow_x": null,
            "overflow_y": null,
            "padding": null,
            "right": null,
            "top": null,
            "visibility": null,
            "width": null
          }
        },
        "855d7e10dd4948a984e94aacd822df25": {
          "model_module": "@jupyter-widgets/base",
          "model_module_version": "1.2.0",
          "model_name": "LayoutModel",
          "state": {
            "_model_module": "@jupyter-widgets/base",
            "_model_module_version": "1.2.0",
            "_model_name": "LayoutModel",
            "_view_count": null,
            "_view_module": "@jupyter-widgets/base",
            "_view_module_version": "1.2.0",
            "_view_name": "LayoutView",
            "align_content": null,
            "align_items": null,
            "align_self": null,
            "border": null,
            "bottom": null,
            "display": null,
            "flex": null,
            "flex_flow": null,
            "grid_area": null,
            "grid_auto_columns": null,
            "grid_auto_flow": null,
            "grid_auto_rows": null,
            "grid_column": null,
            "grid_gap": null,
            "grid_row": null,
            "grid_template_areas": null,
            "grid_template_columns": null,
            "grid_template_rows": null,
            "height": null,
            "justify_content": null,
            "justify_items": null,
            "left": null,
            "margin": null,
            "max_height": null,
            "max_width": null,
            "min_height": null,
            "min_width": null,
            "object_fit": null,
            "object_position": null,
            "order": null,
            "overflow": null,
            "overflow_x": null,
            "overflow_y": null,
            "padding": null,
            "right": null,
            "top": null,
            "visibility": null,
            "width": null
          }
        },
        "887c72752fa14e768ec08e1121784e04": {
          "model_module": "@jupyter-widgets/base",
          "model_module_version": "1.2.0",
          "model_name": "LayoutModel",
          "state": {
            "_model_module": "@jupyter-widgets/base",
            "_model_module_version": "1.2.0",
            "_model_name": "LayoutModel",
            "_view_count": null,
            "_view_module": "@jupyter-widgets/base",
            "_view_module_version": "1.2.0",
            "_view_name": "LayoutView",
            "align_content": null,
            "align_items": null,
            "align_self": null,
            "border": null,
            "bottom": null,
            "display": null,
            "flex": null,
            "flex_flow": null,
            "grid_area": null,
            "grid_auto_columns": null,
            "grid_auto_flow": null,
            "grid_auto_rows": null,
            "grid_column": null,
            "grid_gap": null,
            "grid_row": null,
            "grid_template_areas": null,
            "grid_template_columns": null,
            "grid_template_rows": null,
            "height": null,
            "justify_content": null,
            "justify_items": null,
            "left": null,
            "margin": null,
            "max_height": null,
            "max_width": null,
            "min_height": null,
            "min_width": null,
            "object_fit": null,
            "object_position": null,
            "order": null,
            "overflow": null,
            "overflow_x": null,
            "overflow_y": null,
            "padding": null,
            "right": null,
            "top": null,
            "visibility": null,
            "width": null
          }
        },
        "889d92fee1684a1780412201cdf8deee": {
          "model_module": "@jupyter-widgets/controls",
          "model_module_version": "1.5.0",
          "model_name": "FloatProgressModel",
          "state": {
            "_dom_classes": [],
            "_model_module": "@jupyter-widgets/controls",
            "_model_module_version": "1.5.0",
            "_model_name": "FloatProgressModel",
            "_view_count": null,
            "_view_module": "@jupyter-widgets/controls",
            "_view_module_version": "1.5.0",
            "_view_name": "ProgressView",
            "bar_style": "success",
            "description": "",
            "description_tooltip": null,
            "layout": "IPY_MODEL_35261ad936a7447e971a5b89fd224a84",
            "max": 3247202234,
            "min": 0,
            "orientation": "horizontal",
            "style": "IPY_MODEL_78e2fb60ddb24f71a9c2a90f3d97ed05",
            "value": 3247202234
          }
        },
        "8b6531eca478481483e6a7d7c7ca7de1": {
          "model_module": "@jupyter-widgets/controls",
          "model_module_version": "1.5.0",
          "model_name": "DescriptionStyleModel",
          "state": {
            "_model_module": "@jupyter-widgets/controls",
            "_model_module_version": "1.5.0",
            "_model_name": "DescriptionStyleModel",
            "_view_count": null,
            "_view_module": "@jupyter-widgets/base",
            "_view_module_version": "1.2.0",
            "_view_name": "StyleView",
            "description_width": ""
          }
        },
        "8c31bef80b5649e28e6cd16d0640fbcf": {
          "model_module": "@jupyter-widgets/controls",
          "model_module_version": "1.5.0",
          "model_name": "HBoxModel",
          "state": {
            "_dom_classes": [],
            "_model_module": "@jupyter-widgets/controls",
            "_model_module_version": "1.5.0",
            "_model_name": "HBoxModel",
            "_view_count": null,
            "_view_module": "@jupyter-widgets/controls",
            "_view_module_version": "1.5.0",
            "_view_name": "HBoxView",
            "box_style": "",
            "children": [
              "IPY_MODEL_cf3806cf693241d0a37a3ecc46cde81a",
              "IPY_MODEL_9180f12a4aa84bf0a1f33031584350a8",
              "IPY_MODEL_57e5d9da4e574cb6855f922341f9c9c1"
            ],
            "layout": "IPY_MODEL_a5e54111a41644d1ade5ad20c2321135"
          }
        },
        "9180f12a4aa84bf0a1f33031584350a8": {
          "model_module": "@jupyter-widgets/controls",
          "model_module_version": "1.5.0",
          "model_name": "FloatProgressModel",
          "state": {
            "_dom_classes": [],
            "_model_module": "@jupyter-widgets/controls",
            "_model_module_version": "1.5.0",
            "_model_name": "FloatProgressModel",
            "_view_count": null,
            "_view_module": "@jupyter-widgets/controls",
            "_view_module_version": "1.5.0",
            "_view_name": "ProgressView",
            "bar_style": "success",
            "description": "",
            "description_tooltip": null,
            "layout": "IPY_MODEL_aba977b1ad2d436ea340f72284cc27d1",
            "max": 666,
            "min": 0,
            "orientation": "horizontal",
            "style": "IPY_MODEL_f10e4f39eeb14bc2a4601eef0bbb0d2a",
            "value": 666
          }
        },
        "91a5198652884cc9b4f001ce95c336f7": {
          "model_module": "@jupyter-widgets/controls",
          "model_module_version": "1.5.0",
          "model_name": "HBoxModel",
          "state": {
            "_dom_classes": [],
            "_model_module": "@jupyter-widgets/controls",
            "_model_module_version": "1.5.0",
            "_model_name": "HBoxModel",
            "_view_count": null,
            "_view_module": "@jupyter-widgets/controls",
            "_view_module_version": "1.5.0",
            "_view_name": "HBoxView",
            "box_style": "",
            "children": [
              "IPY_MODEL_419b77ae792342aeb1c95512013c97eb",
              "IPY_MODEL_889d92fee1684a1780412201cdf8deee",
              "IPY_MODEL_231b0c5ea2e04095b46f7951d98c51b7"
            ],
            "layout": "IPY_MODEL_61742063c5c146d78f4134d305a50d4b"
          }
        },
        "a14cf45fdf544ce688731941b9997ced": {
          "model_module": "@jupyter-widgets/base",
          "model_module_version": "1.2.0",
          "model_name": "LayoutModel",
          "state": {
            "_model_module": "@jupyter-widgets/base",
            "_model_module_version": "1.2.0",
            "_model_name": "LayoutModel",
            "_view_count": null,
            "_view_module": "@jupyter-widgets/base",
            "_view_module_version": "1.2.0",
            "_view_name": "LayoutView",
            "align_content": null,
            "align_items": null,
            "align_self": null,
            "border": null,
            "bottom": null,
            "display": null,
            "flex": null,
            "flex_flow": null,
            "grid_area": null,
            "grid_auto_columns": null,
            "grid_auto_flow": null,
            "grid_auto_rows": null,
            "grid_column": null,
            "grid_gap": null,
            "grid_row": null,
            "grid_template_areas": null,
            "grid_template_columns": null,
            "grid_template_rows": null,
            "height": null,
            "justify_content": null,
            "justify_items": null,
            "left": null,
            "margin": null,
            "max_height": null,
            "max_width": null,
            "min_height": null,
            "min_width": null,
            "object_fit": null,
            "object_position": null,
            "order": null,
            "overflow": null,
            "overflow_x": null,
            "overflow_y": null,
            "padding": null,
            "right": null,
            "top": null,
            "visibility": null,
            "width": null
          }
        },
        "a5e54111a41644d1ade5ad20c2321135": {
          "model_module": "@jupyter-widgets/base",
          "model_module_version": "1.2.0",
          "model_name": "LayoutModel",
          "state": {
            "_model_module": "@jupyter-widgets/base",
            "_model_module_version": "1.2.0",
            "_model_name": "LayoutModel",
            "_view_count": null,
            "_view_module": "@jupyter-widgets/base",
            "_view_module_version": "1.2.0",
            "_view_name": "LayoutView",
            "align_content": null,
            "align_items": null,
            "align_self": null,
            "border": null,
            "bottom": null,
            "display": null,
            "flex": null,
            "flex_flow": null,
            "grid_area": null,
            "grid_auto_columns": null,
            "grid_auto_flow": null,
            "grid_auto_rows": null,
            "grid_column": null,
            "grid_gap": null,
            "grid_row": null,
            "grid_template_areas": null,
            "grid_template_columns": null,
            "grid_template_rows": null,
            "height": null,
            "justify_content": null,
            "justify_items": null,
            "left": null,
            "margin": null,
            "max_height": null,
            "max_width": null,
            "min_height": null,
            "min_width": null,
            "object_fit": null,
            "object_position": null,
            "order": null,
            "overflow": null,
            "overflow_x": null,
            "overflow_y": null,
            "padding": null,
            "right": null,
            "top": null,
            "visibility": null,
            "width": null
          }
        },
        "aba977b1ad2d436ea340f72284cc27d1": {
          "model_module": "@jupyter-widgets/base",
          "model_module_version": "1.2.0",
          "model_name": "LayoutModel",
          "state": {
            "_model_module": "@jupyter-widgets/base",
            "_model_module_version": "1.2.0",
            "_model_name": "LayoutModel",
            "_view_count": null,
            "_view_module": "@jupyter-widgets/base",
            "_view_module_version": "1.2.0",
            "_view_name": "LayoutView",
            "align_content": null,
            "align_items": null,
            "align_self": null,
            "border": null,
            "bottom": null,
            "display": null,
            "flex": null,
            "flex_flow": null,
            "grid_area": null,
            "grid_auto_columns": null,
            "grid_auto_flow": null,
            "grid_auto_rows": null,
            "grid_column": null,
            "grid_gap": null,
            "grid_row": null,
            "grid_template_areas": null,
            "grid_template_columns": null,
            "grid_template_rows": null,
            "height": null,
            "justify_content": null,
            "justify_items": null,
            "left": null,
            "margin": null,
            "max_height": null,
            "max_width": null,
            "min_height": null,
            "min_width": null,
            "object_fit": null,
            "object_position": null,
            "order": null,
            "overflow": null,
            "overflow_x": null,
            "overflow_y": null,
            "padding": null,
            "right": null,
            "top": null,
            "visibility": null,
            "width": null
          }
        },
        "c6adad1f41c64441bbd40860ad93eae1": {
          "model_module": "@jupyter-widgets/controls",
          "model_module_version": "1.5.0",
          "model_name": "DescriptionStyleModel",
          "state": {
            "_model_module": "@jupyter-widgets/controls",
            "_model_module_version": "1.5.0",
            "_model_name": "DescriptionStyleModel",
            "_view_count": null,
            "_view_module": "@jupyter-widgets/base",
            "_view_module_version": "1.2.0",
            "_view_name": "StyleView",
            "description_width": ""
          }
        },
        "cf3806cf693241d0a37a3ecc46cde81a": {
          "model_module": "@jupyter-widgets/controls",
          "model_module_version": "1.5.0",
          "model_name": "HTMLModel",
          "state": {
            "_dom_classes": [],
            "_model_module": "@jupyter-widgets/controls",
            "_model_module_version": "1.5.0",
            "_model_name": "HTMLModel",
            "_view_count": null,
            "_view_module": "@jupyter-widgets/controls",
            "_view_module_version": "1.5.0",
            "_view_name": "HTMLView",
            "description": "",
            "description_tooltip": null,
            "layout": "IPY_MODEL_a14cf45fdf544ce688731941b9997ced",
            "placeholder": "​",
            "style": "IPY_MODEL_4a8816c811174595869035bc5a0be7ed",
            "value": "Downloading (…)lve/main/config.json: 100%"
          }
        },
        "e11702c268614f2f887153b255c14a1a": {
          "model_module": "@jupyter-widgets/base",
          "model_module_version": "1.2.0",
          "model_name": "LayoutModel",
          "state": {
            "_model_module": "@jupyter-widgets/base",
            "_model_module_version": "1.2.0",
            "_model_name": "LayoutModel",
            "_view_count": null,
            "_view_module": "@jupyter-widgets/base",
            "_view_module_version": "1.2.0",
            "_view_name": "LayoutView",
            "align_content": null,
            "align_items": null,
            "align_self": null,
            "border": null,
            "bottom": null,
            "display": null,
            "flex": null,
            "flex_flow": null,
            "grid_area": null,
            "grid_auto_columns": null,
            "grid_auto_flow": null,
            "grid_auto_rows": null,
            "grid_column": null,
            "grid_gap": null,
            "grid_row": null,
            "grid_template_areas": null,
            "grid_template_columns": null,
            "grid_template_rows": null,
            "height": null,
            "justify_content": null,
            "justify_items": null,
            "left": null,
            "margin": null,
            "max_height": null,
            "max_width": null,
            "min_height": null,
            "min_width": null,
            "object_fit": null,
            "object_position": null,
            "order": null,
            "overflow": null,
            "overflow_x": null,
            "overflow_y": null,
            "padding": null,
            "right": null,
            "top": null,
            "visibility": null,
            "width": null
          }
        },
        "e376d92cbe024ed08dc9a0224071bcf1": {
          "model_module": "@jupyter-widgets/base",
          "model_module_version": "1.2.0",
          "model_name": "LayoutModel",
          "state": {
            "_model_module": "@jupyter-widgets/base",
            "_model_module_version": "1.2.0",
            "_model_name": "LayoutModel",
            "_view_count": null,
            "_view_module": "@jupyter-widgets/base",
            "_view_module_version": "1.2.0",
            "_view_name": "LayoutView",
            "align_content": null,
            "align_items": null,
            "align_self": null,
            "border": null,
            "bottom": null,
            "display": null,
            "flex": null,
            "flex_flow": null,
            "grid_area": null,
            "grid_auto_columns": null,
            "grid_auto_flow": null,
            "grid_auto_rows": null,
            "grid_column": null,
            "grid_gap": null,
            "grid_row": null,
            "grid_template_areas": null,
            "grid_template_columns": null,
            "grid_template_rows": null,
            "height": null,
            "justify_content": null,
            "justify_items": null,
            "left": null,
            "margin": null,
            "max_height": null,
            "max_width": null,
            "min_height": null,
            "min_width": null,
            "object_fit": null,
            "object_position": null,
            "order": null,
            "overflow": null,
            "overflow_x": null,
            "overflow_y": null,
            "padding": null,
            "right": null,
            "top": null,
            "visibility": null,
            "width": null
          }
        },
        "f10e4f39eeb14bc2a4601eef0bbb0d2a": {
          "model_module": "@jupyter-widgets/controls",
          "model_module_version": "1.5.0",
          "model_name": "ProgressStyleModel",
          "state": {
            "_model_module": "@jupyter-widgets/controls",
            "_model_module_version": "1.5.0",
            "_model_name": "ProgressStyleModel",
            "_view_count": null,
            "_view_module": "@jupyter-widgets/base",
            "_view_module_version": "1.2.0",
            "_view_name": "StyleView",
            "bar_color": null,
            "description_width": ""
          }
        }
      }
    }
  },
  "nbformat": 4,
  "nbformat_minor": 0
}
