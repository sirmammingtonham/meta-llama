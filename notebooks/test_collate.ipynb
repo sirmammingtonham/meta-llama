{
  "cells": [
    {
      "cell_type": "code",
      "execution_count": 135,
      "metadata": {
        "id": "-wSeZL14pomi"
      },
      "outputs": [],
      "source": [
        "from datasets import Dataset, load_dataset\n",
        "from dataclasses import dataclass\n",
        "from typing import List, Dict, Any\n",
        "from transformers import PreTrainedTokenizerBase\n",
        "from torch.utils.data.dataset import Dataset\n",
        "from torch.utils.data import DataLoader\n",
        "import itertools\n",
        "\n",
        "import torch\n",
        "import numpy as np"
      ]
    },
    {
      "cell_type": "code",
      "execution_count": 136,
      "metadata": {},
      "outputs": [],
      "source": [
        "import sys\n",
        "sys.path.append('..')"
      ]
    },
    {
      "cell_type": "code",
      "execution_count": 139,
      "metadata": {
        "colab": {
          "base_uri": "https://localhost:8080/"
        },
        "id": "pfD8ZzvKpry-",
        "outputId": "2cbff75c-0e63-44d3-e023-4afe33aca15e"
      },
      "outputs": [
        {
          "name": "stderr",
          "output_type": "stream",
          "text": [
            "Found cached dataset bigbench (/Users/yeeb/.cache/huggingface/datasets/tasksource___bigbench/movie_recommendation/1.0.0/c5da5ac497141c7435da10444495b8577405d4ed01e524265b144a7063718c0c)\n"
          ]
        }
      ],
      "source": [
        "ds = load_dataset('tasksource/bigbench', 'movie_recommendation', split=\"train\")"
      ]
    },
    {
      "cell_type": "code",
      "execution_count": 140,
      "metadata": {},
      "outputs": [
        {
          "data": {
            "text/plain": [
              "Dataset({\n",
              "    features: ['inputs', 'targets', 'multiple_choice_targets', 'multiple_choice_scores', 'idx'],\n",
              "    num_rows: 400\n",
              "})"
            ]
          },
          "execution_count": 140,
          "metadata": {},
          "output_type": "execute_result"
        }
      ],
      "source": [
        "ds"
      ]
    },
    {
      "cell_type": "code",
      "execution_count": 146,
      "metadata": {},
      "outputs": [
        {
          "name": "stderr",
          "output_type": "stream",
          "text": [
            "Found cached dataset json (/Users/yeeb/.cache/huggingface/datasets/json/default-8b0cc3f6e2fb8516/0.0.0/e347ab1c932092252e717ff3f949105a4dd28b27e842dd53157d2f72e276c2e4)\n"
          ]
        },
        {
          "data": {
            "text/plain": [
              "Dataset({\n",
              "    features: ['inputs', 'idx', 'targets', 'multiple_choice_scores', 'true_idx', 'is_generated', 'multiple_choice_targets'],\n",
              "    num_rows: 22\n",
              "})"
            ]
          },
          "execution_count": 146,
          "metadata": {},
          "output_type": "execute_result"
        }
      ],
      "source": [
        "load_dataset(\n",
        "    \"json\",\n",
        "    data_files=f\"../data/baseline_test/crash_blossom.json\",\n",
        "    split=\"train\"\n",
        ")"
      ]
    },
    {
      "cell_type": "code",
      "execution_count": 127,
      "metadata": {},
      "outputs": [
        {
          "name": "stderr",
          "output_type": "stream",
          "text": [
            "Found cached dataset bigbench (/Users/yeeb/.cache/huggingface/datasets/tasksource___bigbench/crash_blossom/1.0.0/c5da5ac497141c7435da10444495b8577405d4ed01e524265b144a7063718c0c)\n"
          ]
        },
        {
          "data": {
            "application/vnd.jupyter.widget-view+json": {
              "model_id": "0311d56e41284372a5f72b836063d1aa",
              "version_major": 2,
              "version_minor": 0
            },
            "text/plain": [
              "  0%|          | 0/2 [00:00<?, ?it/s]"
            ]
          },
          "metadata": {},
          "output_type": "display_data"
        }
      ],
      "source": [
        "ds = load_dataset('tasksource/bigbench', 'crash_blossom')[\"train\"]"
      ]
    },
    {
      "cell_type": "code",
      "execution_count": 128,
      "metadata": {
        "colab": {
          "base_uri": "https://localhost:8080/"
        },
        "id": "LqfBgJ1wp0PL",
        "outputId": "57e89d44-482f-4dfe-e385-b845dc4af6af"
      },
      "outputs": [
        {
          "data": {
            "text/plain": [
              "{'inputs': 'Identify the part of speech (verb, adjective, noun, or preposition) of the specified word in the following headlines.\\n\\nIn the following sentence, what part of speech is bears? Sentence: Nevada poll bears good news for Obama\\nA:',\n",
              " 'targets': ['verb'],\n",
              " 'multiple_choice_targets': ['verb', 'adjective', 'noun', 'preposition'],\n",
              " 'multiple_choice_scores': [1, 0, 0, 0],\n",
              " 'idx': 0}"
            ]
          },
          "execution_count": 128,
          "metadata": {},
          "output_type": "execute_result"
        }
      ],
      "source": [
        "ds[0]"
      ]
    },
    {
      "cell_type": "code",
      "execution_count": 5,
      "metadata": {
        "id": "rnVNjjfaqXuC"
      },
      "outputs": [],
      "source": [
        "from transformers import AutoTokenizer\n",
        "\n",
        "tokenizer = AutoTokenizer.from_pretrained('huggyllama/llama-7b')\n",
        "tokenizer.bos_token = \"<s>\"\n",
        "tokenizer.eos_token = \"</s>\"\n",
        "tokenizer.pad_token = tokenizer.eos_token"
      ]
    },
    {
      "cell_type": "code",
      "execution_count": null,
      "metadata": {},
      "outputs": [],
      "source": [
        "\\n  choice:"
      ]
    },
    {
      "cell_type": "code",
      "execution_count": 129,
      "metadata": {
        "id": "Wae8BBt3qPN8"
      },
      "outputs": [],
      "source": [
        "def preprocess_dataset(\n",
        "    ds: Dataset,\n",
        "    tokenizer: PreTrainedTokenizerBase,\n",
        "    method=\"direct\",\n",
        "    num_procs=8,\n",
        ") -> Dataset:\n",
        "    def remove_choices(s: str) -> str:\n",
        "        choice_start = s.find(\"\\n  choice:\")\n",
        "        if choice_start == -1:\n",
        "            return s\n",
        "        return s[:choice_start]\n",
        "\n",
        "    def target_to_index(choices: List, target: List[str]) -> int:\n",
        "        if not target:\n",
        "            return -1\n",
        "        try:\n",
        "            index = choices.index(target[0])\n",
        "            return index\n",
        "        except ValueError:\n",
        "            return -1\n",
        "\n",
        "    def preprocess_function(examples: dict) -> dict:\n",
        "        \"\"\"\n",
        "        * tokenizes dataset\n",
        "        * token_type_ids are 1 where there are label tokens and 0 otherwise\n",
        "        \"\"\"\n",
        "        inputs = [\n",
        "            f\"{remove_choices(inp)}\\n\"\n",
        "            + \"\\n\".join([f\"choice {i}: {choice}\" for i, choice in enumerate(choices)])\n",
        "            + \"\\nanswer:\"\n",
        "            for inp, choices in zip(\n",
        "                examples[\"inputs\"], examples[\"multiple_choice_targets\"]\n",
        "            )\n",
        "        ]\n",
        "\n",
        "        targets = [\n",
        "            f\"{target_to_index(choices, target)}\\n\\n\"\n",
        "            for target, choices in zip(\n",
        "                examples[\"targets\"], examples[\"multiple_choice_targets\"]\n",
        "            )\n",
        "        ]\n",
        "\n",
        "        # swap inputs and targets if method is \"channel\"\n",
        "        if method == \"channel\":\n",
        "            inputs, targets = targets, inputs\n",
        "\n",
        "        # tokenize inputs and targets, and prepare outputs dictionary\n",
        "        input_tokenized = tokenizer(inputs, add_special_tokens=False)\n",
        "        target_tokenized = tokenizer(targets, add_special_tokens=False)\n",
        "        outputs = {\n",
        "            \"input_ids\": [],\n",
        "            \"attention_mask\": [],\n",
        "            \"token_type_ids\": [],\n",
        "        }\n",
        "\n",
        "        # merge input and target tokens and prepare outputs\n",
        "        for i in range(len(input_tokenized[\"input_ids\"])):\n",
        "            input_ids = input_tokenized[\"input_ids\"][i]\n",
        "            target_ids = target_tokenized[\"input_ids\"][i]\n",
        "            outputs[\"input_ids\"].append(input_ids + target_ids)\n",
        "\n",
        "            input_attention = input_tokenized[\"attention_mask\"][i]\n",
        "            target_attention = target_tokenized[\"attention_mask\"][i]\n",
        "            outputs[\"attention_mask\"].append(input_attention + target_attention)\n",
        "\n",
        "            input_token_type = [0] * (len(input_ids) + 1)\n",
        "            target_token_type = [1] * (len(target_ids) - 3) + [0, 0]\n",
        "            outputs[\"token_type_ids\"].append(input_token_type + target_token_type)\n",
        "\n",
        "            print(len(outputs[\"input_ids\"][i]), len(outputs[\"attention_mask\"][i]), len(outputs[\"token_type_ids\"][i]))\n",
        "\n",
        "        return outputs\n",
        "\n",
        "    ds = ds.map(\n",
        "        preprocess_function,\n",
        "        batched=True,\n",
        "        num_proc=num_procs,\n",
        "    )\n",
        "    return ds"
      ]
    },
    {
      "cell_type": "code",
      "execution_count": 130,
      "metadata": {
        "colab": {
          "base_uri": "https://localhost:8080/"
        },
        "id": "MDDDSYEEqby8",
        "outputId": "60c03946-ddc3-4701-a9cd-a89836962761"
      },
      "outputs": [
        {
          "data": {
            "application/vnd.jupyter.widget-view+json": {
              "model_id": "4767ea5b9c55420bb522a62eb6d17015",
              "version_major": 2,
              "version_minor": 0
            },
            "text/plain": [
              "Map (num_proc=8):   0%|          | 0/22 [00:00<?, ? examples/s]"
            ]
          },
          "metadata": {},
          "output_type": "display_data"
        },
        {
          "name": "stdout",
          "output_type": "stream",
          "text": [
            "94 94 94\n",
            "90 90 90\n",
            "96 9688  9688 \n",
            "88\n",
            "96 96 96\n",
            "94 9493  9493\n",
            " 8993 \n",
            "8995  8995\n",
            " 9295 \n",
            "9289  899293\n",
            "  999389  \n",
            "9399\n",
            " 8999\n",
            " 89 89\n",
            "93 93 93\n",
            "94 94 94\n",
            "95 95 95\n",
            "93 93 93\n",
            "102 102 102\n",
            "91 91 91\n",
            "89 89 89\n",
            "89 89 89\n"
          ]
        }
      ],
      "source": [
        "pds = preprocess_dataset(ds, tokenizer, method='direct')"
      ]
    },
    {
      "cell_type": "code",
      "execution_count": 131,
      "metadata": {},
      "outputs": [
        {
          "data": {
            "text/plain": [
              "[0,\n",
              " 0,\n",
              " 0,\n",
              " 0,\n",
              " 0,\n",
              " 0,\n",
              " 0,\n",
              " 0,\n",
              " 0,\n",
              " 0,\n",
              " 0,\n",
              " 0,\n",
              " 0,\n",
              " 0,\n",
              " 0,\n",
              " 0,\n",
              " 0,\n",
              " 0,\n",
              " 0,\n",
              " 0,\n",
              " 0,\n",
              " 0,\n",
              " 0,\n",
              " 0,\n",
              " 0,\n",
              " 0,\n",
              " 0,\n",
              " 0,\n",
              " 0,\n",
              " 0,\n",
              " 0,\n",
              " 0,\n",
              " 0,\n",
              " 0,\n",
              " 0,\n",
              " 0,\n",
              " 0,\n",
              " 0,\n",
              " 0,\n",
              " 0,\n",
              " 0,\n",
              " 0,\n",
              " 0,\n",
              " 0,\n",
              " 0,\n",
              " 0,\n",
              " 0,\n",
              " 0,\n",
              " 0,\n",
              " 0,\n",
              " 0,\n",
              " 0,\n",
              " 0,\n",
              " 0,\n",
              " 0,\n",
              " 0,\n",
              " 0,\n",
              " 0,\n",
              " 0,\n",
              " 0,\n",
              " 0,\n",
              " 0,\n",
              " 0,\n",
              " 0,\n",
              " 0,\n",
              " 0,\n",
              " 0,\n",
              " 0,\n",
              " 0,\n",
              " 0,\n",
              " 0,\n",
              " 0,\n",
              " 0,\n",
              " 0,\n",
              " 0,\n",
              " 0,\n",
              " 0,\n",
              " 0,\n",
              " 0,\n",
              " 0,\n",
              " 0,\n",
              " 0,\n",
              " 0,\n",
              " 0,\n",
              " 0,\n",
              " 0,\n",
              " 0,\n",
              " 0,\n",
              " 0,\n",
              " 0,\n",
              " 0,\n",
              " 1,\n",
              " 0,\n",
              " 0]"
            ]
          },
          "execution_count": 131,
          "metadata": {},
          "output_type": "execute_result"
        }
      ],
      "source": [
        "pds[0]['token_type_ids']"
      ]
    },
    {
      "cell_type": "code",
      "execution_count": 132,
      "metadata": {
        "colab": {
          "base_uri": "https://localhost:8080/"
        },
        "id": "MNmGFwpcqjfY",
        "outputId": "1bf27c5d-75ba-4cd5-a4cd-842f6aabbdb7"
      },
      "outputs": [
        {
          "name": "stdout",
          "output_type": "stream",
          "text": [
            "Identify the part of speech (verb, adjective, noun, or preposition) of the specified word in the following headlines.\n",
            "\n",
            "In the following sentence, what part of speech is bears? Sentence: Nevada poll bears good news for Obama\n",
            "A:\n",
            "choice 0: verb\n",
            "choice 1: adjective\n",
            "choice 2: noun\n",
            "choice 3: preposition\n",
            "answer: 0\n",
            "\n",
            "\n"
          ]
        }
      ],
      "source": [
        "print(tokenizer.decode(pds[0]['input_ids']))"
      ]
    },
    {
      "cell_type": "code",
      "execution_count": 133,
      "metadata": {
        "colab": {
          "base_uri": "https://localhost:8080/"
        },
        "id": "wECL_ngwxNAv",
        "outputId": "4dd57099-831b-4322-ee6d-429dcd993777"
      },
      "outputs": [
        {
          "name": "stdout",
          "output_type": "stream",
          "text": [
            "94 94 94\n",
            "90 90 90\n",
            "96 96 96\n",
            "88 88 88\n",
            "96 96 96\n",
            "94 94 94\n",
            "93 93 93\n",
            "95 95 95\n",
            "89 89 89\n",
            "89 89 89\n",
            "92 92 92\n",
            "99 99 99\n",
            "93 93 93\n",
            "89 89 89\n",
            "93 93 93\n",
            "94 94 94\n",
            "95 95 95\n",
            "93 93 93\n",
            "102 102 102\n",
            "91 91 91\n",
            "89 89 89\n",
            "89 89 89\n"
          ]
        }
      ],
      "source": [
        "for i in range(len(pds)):\n",
        "    print(len(pds[i]['input_ids']), len(pds[i]['attention_mask']), len(pds[i]['token_type_ids']))"
      ]
    },
    {
      "cell_type": "code",
      "execution_count": 134,
      "metadata": {
        "colab": {
          "base_uri": "https://localhost:8080/",
          "height": 35
        },
        "id": "QChpmuO_vCUz",
        "outputId": "9cc123e3-a499-4756-d1a6-098ac9eec089"
      },
      "outputs": [
        {
          "data": {
            "text/plain": [
              "'<unk><unk><unk><unk><unk><unk><unk><unk><unk><unk><unk><unk><unk><unk><unk><unk><unk><unk><unk><unk><unk><unk><unk><unk><unk><unk><unk><unk><unk><unk><unk><unk><unk><unk><unk><unk><unk><unk><unk><unk><unk><unk><unk><unk><unk><unk><unk><unk><unk><unk><unk><unk><unk><unk><unk><unk><unk><unk><unk><unk><unk><unk><unk><unk><unk><unk><unk><unk><unk><unk><unk><unk><unk><unk><unk><unk><unk><unk><unk><unk><unk><unk><unk><unk><unk><unk><unk><unk><unk><unk><unk>0<unk><unk>'"
            ]
          },
          "execution_count": 134,
          "metadata": {},
          "output_type": "execute_result"
        }
      ],
      "source": [
        "tokenizer.decode(np.array(pds[0]['input_ids'])*np.array(pds[0]['token_type_ids']))"
      ]
    },
    {
      "cell_type": "code",
      "execution_count": 99,
      "metadata": {
        "id": "SRtk4lC_sN-l"
      },
      "outputs": [],
      "source": [
        "@dataclass\n",
        "class ICLCollator:\n",
        "    tokenizer: PreTrainedTokenizerBase\n",
        "    k_examples: int = 16\n",
        "    max_length: int = 2048\n",
        "    return_tensors: str = \"pt\"\n",
        "    for_eval: bool = False\n",
        "\n",
        "    def __call__(self, features: List[Dict[str, Any]]) -> Dict[str, Any]:\n",
        "        \"\"\"\n",
        "        * creates batches for in context/few shot learning\n",
        "        * length of [features] should be (k_examples * batch_size)\n",
        "        * if for_eval create a labels field\n",
        "        \"\"\"\n",
        "        batch = {\"input_ids\": [], \"attention_mask\": [], \"token_type_ids\": []}\n",
        "\n",
        "        if self.for_eval:\n",
        "            # if collation for evaluation, features is a List[List[Dict[str, Any]]]\n",
        "            # where the inner list contains our k_examples, so flatten it\n",
        "            features = list(itertools.chain.from_iterable(features))\n",
        "\n",
        "        for i in range(0, len(features), self.k_examples):\n",
        "            batch[\"input_ids\"].append(\n",
        "                list(\n",
        "                    itertools.chain.from_iterable(\n",
        "                        example[\"input_ids\"]\n",
        "                        for example in features[i : i + self.k_examples]\n",
        "                    )\n",
        "                )[: self.max_length]\n",
        "            )\n",
        "            batch[\"attention_mask\"].append(\n",
        "                list(\n",
        "                    itertools.chain.from_iterable(\n",
        "                        example[\"attention_mask\"]\n",
        "                        for example in features[i : i + self.k_examples]\n",
        "                    )\n",
        "                )[: self.max_length]\n",
        "            )\n",
        "            batch[\"token_type_ids\"].append(\n",
        "                list(\n",
        "                    itertools.chain.from_iterable(\n",
        "                        example[\"token_type_ids\"]\n",
        "                        for example in features[i : i + self.k_examples]\n",
        "                    )\n",
        "                )[: self.max_length]\n",
        "            )\n",
        "\n",
        "        batch = self.tokenizer.pad(\n",
        "            batch,\n",
        "            padding=\"longest\",\n",
        "            max_length=self.max_length,\n",
        "            pad_to_multiple_of=None,\n",
        "            return_tensors=self.return_tensors,\n",
        "        )\n",
        "\n",
        "        if self.for_eval:\n",
        "            batch[\"labels\"] = batch[\"input_ids\"].clone()\n",
        "            batch[\"labels\"] *= batch[\"token_type_ids\"]\n",
        "\n",
        "        return batch"
      ]
    },
    {
      "cell_type": "code",
      "execution_count": 100,
      "metadata": {
        "id": "chLtOvZstAv1"
      },
      "outputs": [],
      "source": [
        "k=3\n",
        "batch_size=8"
      ]
    },
    {
      "cell_type": "code",
      "execution_count": 102,
      "metadata": {
        "id": "wuc-l6iIswA2"
      },
      "outputs": [],
      "source": [
        "collate_fn = ICLCollator(tokenizer, k_examples=k)\n",
        "dataloader = DataLoader(pds, batch_size=k*batch_size, collate_fn=collate_fn)"
      ]
    },
    {
      "cell_type": "code",
      "execution_count": 103,
      "metadata": {
        "id": "3MgKJtlQtOmi"
      },
      "outputs": [
        {
          "name": "stderr",
          "output_type": "stream",
          "text": [
            "You're using a LlamaTokenizerFast tokenizer. Please note that with a fast tokenizer, using the `__call__` method is faster than using a method to encode the text followed by a call to the `pad` method to get a padded encoding.\n"
          ]
        }
      ],
      "source": [
        "data = next(iter(dataloader))"
      ]
    },
    {
      "cell_type": "code",
      "execution_count": 104,
      "metadata": {
        "colab": {
          "base_uri": "https://localhost:8080/"
        },
        "id": "I0rnJfo-uD3u",
        "outputId": "25eeddb2-544d-4e69-9ac8-64feeb70be53"
      },
      "outputs": [
        {
          "data": {
            "text/plain": [
              "torch.Size([8, 253])"
            ]
          },
          "execution_count": 104,
          "metadata": {},
          "output_type": "execute_result"
        }
      ],
      "source": [
        "data['input_ids'].shape"
      ]
    },
    {
      "cell_type": "code",
      "execution_count": 105,
      "metadata": {
        "colab": {
          "base_uri": "https://localhost:8080/"
        },
        "id": "_uNZ6gqfufAi",
        "outputId": "94b23359-595c-458d-cf24-4ffc1e636649"
      },
      "outputs": [
        {
          "name": "stdout",
          "output_type": "stream",
          "text": [
            "Find a movie similar to Batman, The Mask, The Fugitive, Pretty Woman:\n",
            "choice 0: The Front Page\n",
            "choice 1: Maelstrom\n",
            "choice 2: The Lion King\n",
            "choice 3: Lamerica\n",
            "answer: 2\n",
            "\n",
            " Find a movie similar to The Sixth Sense, The Matrix, Forrest Gump, The Shawshank Redemption:\n",
            "choice 0: Street Fighter II The Animated Movie\n",
            "choice 1: The Sheltering Sky\n",
            "choice 2: The Boy Who Could Fly\n",
            "choice 3: Terminator 2 Judgment Day\n",
            "answer: 3\n",
            "\n",
            " Find a movie similar to Schindler's List, Braveheart, The Silence of the Lambs, Tombstone:\n",
            "choice 0: Orlando\n",
            "choice 1: Guilty of Romance\n",
            "choice 2: Forrest Gump\n",
            "choice 3: All the Real Girls\n",
            "answer: 2\n",
            "\n",
            "\n"
          ]
        }
      ],
      "source": [
        "print(tokenizer.batch_decode(data['input_ids'], skip_special_tokens=True)[0])"
      ]
    },
    {
      "cell_type": "code",
      "execution_count": 106,
      "metadata": {
        "colab": {
          "base_uri": "https://localhost:8080/"
        },
        "id": "gOY_exTqwt6j",
        "outputId": "1901c6c4-7be9-442f-a137-70e430229c68"
      },
      "outputs": [
        {
          "name": "stdout",
          "output_type": "stream",
          "text": [
            "232\n"
          ]
        }
      ],
      "source": [
        "print(tokenizer.batch_decode(data['input_ids'] * data['token_type_ids'], skip_special_tokens=True)[0])"
      ]
    }
  ],
  "metadata": {
    "accelerator": "GPU",
    "colab": {
      "provenance": []
    },
    "gpuClass": "standard",
    "kernelspec": {
      "display_name": "Python 3",
      "name": "python3"
    },
    "language_info": {
      "codemirror_mode": {
        "name": "ipython",
        "version": 3
      },
      "file_extension": ".py",
      "mimetype": "text/x-python",
      "name": "python",
      "nbconvert_exporter": "python",
      "pygments_lexer": "ipython3",
      "version": "3.8.13"
    },
    "widgets": {
      "application/vnd.jupyter.widget-state+json": {
        "1711a58631bf4aa0a7cca565dc2c05d8": {
          "model_module": "@jupyter-widgets/controls",
          "model_module_version": "1.5.0",
          "model_name": "ProgressStyleModel",
          "state": {
            "_model_module": "@jupyter-widgets/controls",
            "_model_module_version": "1.5.0",
            "_model_name": "ProgressStyleModel",
            "_view_count": null,
            "_view_module": "@jupyter-widgets/base",
            "_view_module_version": "1.2.0",
            "_view_name": "StyleView",
            "bar_color": null,
            "description_width": ""
          }
        },
        "1aa770e4f123451dbc4f6d9af83c5dc1": {
          "model_module": "@jupyter-widgets/controls",
          "model_module_version": "1.5.0",
          "model_name": "HTMLModel",
          "state": {
            "_dom_classes": [],
            "_model_module": "@jupyter-widgets/controls",
            "_model_module_version": "1.5.0",
            "_model_name": "HTMLModel",
            "_view_count": null,
            "_view_module": "@jupyter-widgets/controls",
            "_view_module_version": "1.5.0",
            "_view_name": "HTMLView",
            "description": "",
            "description_tooltip": null,
            "layout": "IPY_MODEL_e376d92cbe024ed08dc9a0224071bcf1",
            "placeholder": "​",
            "style": "IPY_MODEL_70b0de0159114cab95f9046930925122",
            "value": "Downloading (…)neration_config.json: 100%"
          }
        },
        "231b0c5ea2e04095b46f7951d98c51b7": {
          "model_module": "@jupyter-widgets/controls",
          "model_module_version": "1.5.0",
          "model_name": "HTMLModel",
          "state": {
            "_dom_classes": [],
            "_model_module": "@jupyter-widgets/controls",
            "_model_module_version": "1.5.0",
            "_model_name": "HTMLModel",
            "_view_count": null,
            "_view_module": "@jupyter-widgets/controls",
            "_view_module_version": "1.5.0",
            "_view_name": "HTMLView",
            "description": "",
            "description_tooltip": null,
            "layout": "IPY_MODEL_239f299a00a74e02993b443cbd7daea4",
            "placeholder": "​",
            "style": "IPY_MODEL_8b6531eca478481483e6a7d7c7ca7de1",
            "value": " 3.25G/3.25G [00:48&lt;00:00, 73.7MB/s]"
          }
        },
        "239f299a00a74e02993b443cbd7daea4": {
          "model_module": "@jupyter-widgets/base",
          "model_module_version": "1.2.0",
          "model_name": "LayoutModel",
          "state": {
            "_model_module": "@jupyter-widgets/base",
            "_model_module_version": "1.2.0",
            "_model_name": "LayoutModel",
            "_view_count": null,
            "_view_module": "@jupyter-widgets/base",
            "_view_module_version": "1.2.0",
            "_view_name": "LayoutView",
            "align_content": null,
            "align_items": null,
            "align_self": null,
            "border": null,
            "bottom": null,
            "display": null,
            "flex": null,
            "flex_flow": null,
            "grid_area": null,
            "grid_auto_columns": null,
            "grid_auto_flow": null,
            "grid_auto_rows": null,
            "grid_column": null,
            "grid_gap": null,
            "grid_row": null,
            "grid_template_areas": null,
            "grid_template_columns": null,
            "grid_template_rows": null,
            "height": null,
            "justify_content": null,
            "justify_items": null,
            "left": null,
            "margin": null,
            "max_height": null,
            "max_width": null,
            "min_height": null,
            "min_width": null,
            "object_fit": null,
            "object_position": null,
            "order": null,
            "overflow": null,
            "overflow_x": null,
            "overflow_y": null,
            "padding": null,
            "right": null,
            "top": null,
            "visibility": null,
            "width": null
          }
        },
        "3110741a7e2642798e0378fa9d633707": {
          "model_module": "@jupyter-widgets/controls",
          "model_module_version": "1.5.0",
          "model_name": "HTMLModel",
          "state": {
            "_dom_classes": [],
            "_model_module": "@jupyter-widgets/controls",
            "_model_module_version": "1.5.0",
            "_model_name": "HTMLModel",
            "_view_count": null,
            "_view_module": "@jupyter-widgets/controls",
            "_view_module_version": "1.5.0",
            "_view_name": "HTMLView",
            "description": "",
            "description_tooltip": null,
            "layout": "IPY_MODEL_855d7e10dd4948a984e94aacd822df25",
            "placeholder": "​",
            "style": "IPY_MODEL_c6adad1f41c64441bbd40860ad93eae1",
            "value": " 124/124 [00:00&lt;00:00, 6.69kB/s]"
          }
        },
        "35261ad936a7447e971a5b89fd224a84": {
          "model_module": "@jupyter-widgets/base",
          "model_module_version": "1.2.0",
          "model_name": "LayoutModel",
          "state": {
            "_model_module": "@jupyter-widgets/base",
            "_model_module_version": "1.2.0",
            "_model_name": "LayoutModel",
            "_view_count": null,
            "_view_module": "@jupyter-widgets/base",
            "_view_module_version": "1.2.0",
            "_view_name": "LayoutView",
            "align_content": null,
            "align_items": null,
            "align_self": null,
            "border": null,
            "bottom": null,
            "display": null,
            "flex": null,
            "flex_flow": null,
            "grid_area": null,
            "grid_auto_columns": null,
            "grid_auto_flow": null,
            "grid_auto_rows": null,
            "grid_column": null,
            "grid_gap": null,
            "grid_row": null,
            "grid_template_areas": null,
            "grid_template_columns": null,
            "grid_template_rows": null,
            "height": null,
            "justify_content": null,
            "justify_items": null,
            "left": null,
            "margin": null,
            "max_height": null,
            "max_width": null,
            "min_height": null,
            "min_width": null,
            "object_fit": null,
            "object_position": null,
            "order": null,
            "overflow": null,
            "overflow_x": null,
            "overflow_y": null,
            "padding": null,
            "right": null,
            "top": null,
            "visibility": null,
            "width": null
          }
        },
        "37d1fddd57c5427f863c91676a492273": {
          "model_module": "@jupyter-widgets/controls",
          "model_module_version": "1.5.0",
          "model_name": "FloatProgressModel",
          "state": {
            "_dom_classes": [],
            "_model_module": "@jupyter-widgets/controls",
            "_model_module_version": "1.5.0",
            "_model_name": "FloatProgressModel",
            "_view_count": null,
            "_view_module": "@jupyter-widgets/controls",
            "_view_module_version": "1.5.0",
            "_view_name": "ProgressView",
            "bar_style": "success",
            "description": "",
            "description_tooltip": null,
            "layout": "IPY_MODEL_887c72752fa14e768ec08e1121784e04",
            "max": 124,
            "min": 0,
            "orientation": "horizontal",
            "style": "IPY_MODEL_1711a58631bf4aa0a7cca565dc2c05d8",
            "value": 124
          }
        },
        "3af0375e69e745d8bbe439252684b2f9": {
          "model_module": "@jupyter-widgets/base",
          "model_module_version": "1.2.0",
          "model_name": "LayoutModel",
          "state": {
            "_model_module": "@jupyter-widgets/base",
            "_model_module_version": "1.2.0",
            "_model_name": "LayoutModel",
            "_view_count": null,
            "_view_module": "@jupyter-widgets/base",
            "_view_module_version": "1.2.0",
            "_view_name": "LayoutView",
            "align_content": null,
            "align_items": null,
            "align_self": null,
            "border": null,
            "bottom": null,
            "display": null,
            "flex": null,
            "flex_flow": null,
            "grid_area": null,
            "grid_auto_columns": null,
            "grid_auto_flow": null,
            "grid_auto_rows": null,
            "grid_column": null,
            "grid_gap": null,
            "grid_row": null,
            "grid_template_areas": null,
            "grid_template_columns": null,
            "grid_template_rows": null,
            "height": null,
            "justify_content": null,
            "justify_items": null,
            "left": null,
            "margin": null,
            "max_height": null,
            "max_width": null,
            "min_height": null,
            "min_width": null,
            "object_fit": null,
            "object_position": null,
            "order": null,
            "overflow": null,
            "overflow_x": null,
            "overflow_y": null,
            "padding": null,
            "right": null,
            "top": null,
            "visibility": null,
            "width": null
          }
        },
        "3e8bb1443c114b61a228ee449a55af54": {
          "model_module": "@jupyter-widgets/controls",
          "model_module_version": "1.5.0",
          "model_name": "DescriptionStyleModel",
          "state": {
            "_model_module": "@jupyter-widgets/controls",
            "_model_module_version": "1.5.0",
            "_model_name": "DescriptionStyleModel",
            "_view_count": null,
            "_view_module": "@jupyter-widgets/base",
            "_view_module_version": "1.2.0",
            "_view_name": "StyleView",
            "description_width": ""
          }
        },
        "419b77ae792342aeb1c95512013c97eb": {
          "model_module": "@jupyter-widgets/controls",
          "model_module_version": "1.5.0",
          "model_name": "HTMLModel",
          "state": {
            "_dom_classes": [],
            "_model_module": "@jupyter-widgets/controls",
            "_model_module_version": "1.5.0",
            "_model_name": "HTMLModel",
            "_view_count": null,
            "_view_module": "@jupyter-widgets/controls",
            "_view_module_version": "1.5.0",
            "_view_name": "HTMLView",
            "description": "",
            "description_tooltip": null,
            "layout": "IPY_MODEL_81c50f9d826148b48e38b659c8127b7a",
            "placeholder": "​",
            "style": "IPY_MODEL_786bb3839a5a4af89da89d378dd00f04",
            "value": "Downloading pytorch_model.bin: 100%"
          }
        },
        "4a8816c811174595869035bc5a0be7ed": {
          "model_module": "@jupyter-widgets/controls",
          "model_module_version": "1.5.0",
          "model_name": "DescriptionStyleModel",
          "state": {
            "_model_module": "@jupyter-widgets/controls",
            "_model_module_version": "1.5.0",
            "_model_name": "DescriptionStyleModel",
            "_view_count": null,
            "_view_module": "@jupyter-widgets/base",
            "_view_module_version": "1.2.0",
            "_view_name": "StyleView",
            "description_width": ""
          }
        },
        "57e5d9da4e574cb6855f922341f9c9c1": {
          "model_module": "@jupyter-widgets/controls",
          "model_module_version": "1.5.0",
          "model_name": "HTMLModel",
          "state": {
            "_dom_classes": [],
            "_model_module": "@jupyter-widgets/controls",
            "_model_module_version": "1.5.0",
            "_model_name": "HTMLModel",
            "_view_count": null,
            "_view_module": "@jupyter-widgets/controls",
            "_view_module_version": "1.5.0",
            "_view_name": "HTMLView",
            "description": "",
            "description_tooltip": null,
            "layout": "IPY_MODEL_e11702c268614f2f887153b255c14a1a",
            "placeholder": "​",
            "style": "IPY_MODEL_3e8bb1443c114b61a228ee449a55af54",
            "value": " 666/666 [00:00&lt;00:00, 44.5kB/s]"
          }
        },
        "61742063c5c146d78f4134d305a50d4b": {
          "model_module": "@jupyter-widgets/base",
          "model_module_version": "1.2.0",
          "model_name": "LayoutModel",
          "state": {
            "_model_module": "@jupyter-widgets/base",
            "_model_module_version": "1.2.0",
            "_model_name": "LayoutModel",
            "_view_count": null,
            "_view_module": "@jupyter-widgets/base",
            "_view_module_version": "1.2.0",
            "_view_name": "LayoutView",
            "align_content": null,
            "align_items": null,
            "align_self": null,
            "border": null,
            "bottom": null,
            "display": null,
            "flex": null,
            "flex_flow": null,
            "grid_area": null,
            "grid_auto_columns": null,
            "grid_auto_flow": null,
            "grid_auto_rows": null,
            "grid_column": null,
            "grid_gap": null,
            "grid_row": null,
            "grid_template_areas": null,
            "grid_template_columns": null,
            "grid_template_rows": null,
            "height": null,
            "justify_content": null,
            "justify_items": null,
            "left": null,
            "margin": null,
            "max_height": null,
            "max_width": null,
            "min_height": null,
            "min_width": null,
            "object_fit": null,
            "object_position": null,
            "order": null,
            "overflow": null,
            "overflow_x": null,
            "overflow_y": null,
            "padding": null,
            "right": null,
            "top": null,
            "visibility": null,
            "width": null
          }
        },
        "70b0de0159114cab95f9046930925122": {
          "model_module": "@jupyter-widgets/controls",
          "model_module_version": "1.5.0",
          "model_name": "DescriptionStyleModel",
          "state": {
            "_model_module": "@jupyter-widgets/controls",
            "_model_module_version": "1.5.0",
            "_model_name": "DescriptionStyleModel",
            "_view_count": null,
            "_view_module": "@jupyter-widgets/base",
            "_view_module_version": "1.2.0",
            "_view_name": "StyleView",
            "description_width": ""
          }
        },
        "786bb3839a5a4af89da89d378dd00f04": {
          "model_module": "@jupyter-widgets/controls",
          "model_module_version": "1.5.0",
          "model_name": "DescriptionStyleModel",
          "state": {
            "_model_module": "@jupyter-widgets/controls",
            "_model_module_version": "1.5.0",
            "_model_name": "DescriptionStyleModel",
            "_view_count": null,
            "_view_module": "@jupyter-widgets/base",
            "_view_module_version": "1.2.0",
            "_view_name": "StyleView",
            "description_width": ""
          }
        },
        "78e2fb60ddb24f71a9c2a90f3d97ed05": {
          "model_module": "@jupyter-widgets/controls",
          "model_module_version": "1.5.0",
          "model_name": "ProgressStyleModel",
          "state": {
            "_model_module": "@jupyter-widgets/controls",
            "_model_module_version": "1.5.0",
            "_model_name": "ProgressStyleModel",
            "_view_count": null,
            "_view_module": "@jupyter-widgets/base",
            "_view_module_version": "1.2.0",
            "_view_name": "StyleView",
            "bar_color": null,
            "description_width": ""
          }
        },
        "7de0d2f8ce5143b3879c4beda1db9c66": {
          "model_module": "@jupyter-widgets/controls",
          "model_module_version": "1.5.0",
          "model_name": "HBoxModel",
          "state": {
            "_dom_classes": [],
            "_model_module": "@jupyter-widgets/controls",
            "_model_module_version": "1.5.0",
            "_model_name": "HBoxModel",
            "_view_count": null,
            "_view_module": "@jupyter-widgets/controls",
            "_view_module_version": "1.5.0",
            "_view_name": "HBoxView",
            "box_style": "",
            "children": [
              "IPY_MODEL_1aa770e4f123451dbc4f6d9af83c5dc1",
              "IPY_MODEL_37d1fddd57c5427f863c91676a492273",
              "IPY_MODEL_3110741a7e2642798e0378fa9d633707"
            ],
            "layout": "IPY_MODEL_3af0375e69e745d8bbe439252684b2f9"
          }
        },
        "81c50f9d826148b48e38b659c8127b7a": {
          "model_module": "@jupyter-widgets/base",
          "model_module_version": "1.2.0",
          "model_name": "LayoutModel",
          "state": {
            "_model_module": "@jupyter-widgets/base",
            "_model_module_version": "1.2.0",
            "_model_name": "LayoutModel",
            "_view_count": null,
            "_view_module": "@jupyter-widgets/base",
            "_view_module_version": "1.2.0",
            "_view_name": "LayoutView",
            "align_content": null,
            "align_items": null,
            "align_self": null,
            "border": null,
            "bottom": null,
            "display": null,
            "flex": null,
            "flex_flow": null,
            "grid_area": null,
            "grid_auto_columns": null,
            "grid_auto_flow": null,
            "grid_auto_rows": null,
            "grid_column": null,
            "grid_gap": null,
            "grid_row": null,
            "grid_template_areas": null,
            "grid_template_columns": null,
            "grid_template_rows": null,
            "height": null,
            "justify_content": null,
            "justify_items": null,
            "left": null,
            "margin": null,
            "max_height": null,
            "max_width": null,
            "min_height": null,
            "min_width": null,
            "object_fit": null,
            "object_position": null,
            "order": null,
            "overflow": null,
            "overflow_x": null,
            "overflow_y": null,
            "padding": null,
            "right": null,
            "top": null,
            "visibility": null,
            "width": null
          }
        },
        "855d7e10dd4948a984e94aacd822df25": {
          "model_module": "@jupyter-widgets/base",
          "model_module_version": "1.2.0",
          "model_name": "LayoutModel",
          "state": {
            "_model_module": "@jupyter-widgets/base",
            "_model_module_version": "1.2.0",
            "_model_name": "LayoutModel",
            "_view_count": null,
            "_view_module": "@jupyter-widgets/base",
            "_view_module_version": "1.2.0",
            "_view_name": "LayoutView",
            "align_content": null,
            "align_items": null,
            "align_self": null,
            "border": null,
            "bottom": null,
            "display": null,
            "flex": null,
            "flex_flow": null,
            "grid_area": null,
            "grid_auto_columns": null,
            "grid_auto_flow": null,
            "grid_auto_rows": null,
            "grid_column": null,
            "grid_gap": null,
            "grid_row": null,
            "grid_template_areas": null,
            "grid_template_columns": null,
            "grid_template_rows": null,
            "height": null,
            "justify_content": null,
            "justify_items": null,
            "left": null,
            "margin": null,
            "max_height": null,
            "max_width": null,
            "min_height": null,
            "min_width": null,
            "object_fit": null,
            "object_position": null,
            "order": null,
            "overflow": null,
            "overflow_x": null,
            "overflow_y": null,
            "padding": null,
            "right": null,
            "top": null,
            "visibility": null,
            "width": null
          }
        },
        "887c72752fa14e768ec08e1121784e04": {
          "model_module": "@jupyter-widgets/base",
          "model_module_version": "1.2.0",
          "model_name": "LayoutModel",
          "state": {
            "_model_module": "@jupyter-widgets/base",
            "_model_module_version": "1.2.0",
            "_model_name": "LayoutModel",
            "_view_count": null,
            "_view_module": "@jupyter-widgets/base",
            "_view_module_version": "1.2.0",
            "_view_name": "LayoutView",
            "align_content": null,
            "align_items": null,
            "align_self": null,
            "border": null,
            "bottom": null,
            "display": null,
            "flex": null,
            "flex_flow": null,
            "grid_area": null,
            "grid_auto_columns": null,
            "grid_auto_flow": null,
            "grid_auto_rows": null,
            "grid_column": null,
            "grid_gap": null,
            "grid_row": null,
            "grid_template_areas": null,
            "grid_template_columns": null,
            "grid_template_rows": null,
            "height": null,
            "justify_content": null,
            "justify_items": null,
            "left": null,
            "margin": null,
            "max_height": null,
            "max_width": null,
            "min_height": null,
            "min_width": null,
            "object_fit": null,
            "object_position": null,
            "order": null,
            "overflow": null,
            "overflow_x": null,
            "overflow_y": null,
            "padding": null,
            "right": null,
            "top": null,
            "visibility": null,
            "width": null
          }
        },
        "889d92fee1684a1780412201cdf8deee": {
          "model_module": "@jupyter-widgets/controls",
          "model_module_version": "1.5.0",
          "model_name": "FloatProgressModel",
          "state": {
            "_dom_classes": [],
            "_model_module": "@jupyter-widgets/controls",
            "_model_module_version": "1.5.0",
            "_model_name": "FloatProgressModel",
            "_view_count": null,
            "_view_module": "@jupyter-widgets/controls",
            "_view_module_version": "1.5.0",
            "_view_name": "ProgressView",
            "bar_style": "success",
            "description": "",
            "description_tooltip": null,
            "layout": "IPY_MODEL_35261ad936a7447e971a5b89fd224a84",
            "max": 3247202234,
            "min": 0,
            "orientation": "horizontal",
            "style": "IPY_MODEL_78e2fb60ddb24f71a9c2a90f3d97ed05",
            "value": 3247202234
          }
        },
        "8b6531eca478481483e6a7d7c7ca7de1": {
          "model_module": "@jupyter-widgets/controls",
          "model_module_version": "1.5.0",
          "model_name": "DescriptionStyleModel",
          "state": {
            "_model_module": "@jupyter-widgets/controls",
            "_model_module_version": "1.5.0",
            "_model_name": "DescriptionStyleModel",
            "_view_count": null,
            "_view_module": "@jupyter-widgets/base",
            "_view_module_version": "1.2.0",
            "_view_name": "StyleView",
            "description_width": ""
          }
        },
        "8c31bef80b5649e28e6cd16d0640fbcf": {
          "model_module": "@jupyter-widgets/controls",
          "model_module_version": "1.5.0",
          "model_name": "HBoxModel",
          "state": {
            "_dom_classes": [],
            "_model_module": "@jupyter-widgets/controls",
            "_model_module_version": "1.5.0",
            "_model_name": "HBoxModel",
            "_view_count": null,
            "_view_module": "@jupyter-widgets/controls",
            "_view_module_version": "1.5.0",
            "_view_name": "HBoxView",
            "box_style": "",
            "children": [
              "IPY_MODEL_cf3806cf693241d0a37a3ecc46cde81a",
              "IPY_MODEL_9180f12a4aa84bf0a1f33031584350a8",
              "IPY_MODEL_57e5d9da4e574cb6855f922341f9c9c1"
            ],
            "layout": "IPY_MODEL_a5e54111a41644d1ade5ad20c2321135"
          }
        },
        "9180f12a4aa84bf0a1f33031584350a8": {
          "model_module": "@jupyter-widgets/controls",
          "model_module_version": "1.5.0",
          "model_name": "FloatProgressModel",
          "state": {
            "_dom_classes": [],
            "_model_module": "@jupyter-widgets/controls",
            "_model_module_version": "1.5.0",
            "_model_name": "FloatProgressModel",
            "_view_count": null,
            "_view_module": "@jupyter-widgets/controls",
            "_view_module_version": "1.5.0",
            "_view_name": "ProgressView",
            "bar_style": "success",
            "description": "",
            "description_tooltip": null,
            "layout": "IPY_MODEL_aba977b1ad2d436ea340f72284cc27d1",
            "max": 666,
            "min": 0,
            "orientation": "horizontal",
            "style": "IPY_MODEL_f10e4f39eeb14bc2a4601eef0bbb0d2a",
            "value": 666
          }
        },
        "91a5198652884cc9b4f001ce95c336f7": {
          "model_module": "@jupyter-widgets/controls",
          "model_module_version": "1.5.0",
          "model_name": "HBoxModel",
          "state": {
            "_dom_classes": [],
            "_model_module": "@jupyter-widgets/controls",
            "_model_module_version": "1.5.0",
            "_model_name": "HBoxModel",
            "_view_count": null,
            "_view_module": "@jupyter-widgets/controls",
            "_view_module_version": "1.5.0",
            "_view_name": "HBoxView",
            "box_style": "",
            "children": [
              "IPY_MODEL_419b77ae792342aeb1c95512013c97eb",
              "IPY_MODEL_889d92fee1684a1780412201cdf8deee",
              "IPY_MODEL_231b0c5ea2e04095b46f7951d98c51b7"
            ],
            "layout": "IPY_MODEL_61742063c5c146d78f4134d305a50d4b"
          }
        },
        "a14cf45fdf544ce688731941b9997ced": {
          "model_module": "@jupyter-widgets/base",
          "model_module_version": "1.2.0",
          "model_name": "LayoutModel",
          "state": {
            "_model_module": "@jupyter-widgets/base",
            "_model_module_version": "1.2.0",
            "_model_name": "LayoutModel",
            "_view_count": null,
            "_view_module": "@jupyter-widgets/base",
            "_view_module_version": "1.2.0",
            "_view_name": "LayoutView",
            "align_content": null,
            "align_items": null,
            "align_self": null,
            "border": null,
            "bottom": null,
            "display": null,
            "flex": null,
            "flex_flow": null,
            "grid_area": null,
            "grid_auto_columns": null,
            "grid_auto_flow": null,
            "grid_auto_rows": null,
            "grid_column": null,
            "grid_gap": null,
            "grid_row": null,
            "grid_template_areas": null,
            "grid_template_columns": null,
            "grid_template_rows": null,
            "height": null,
            "justify_content": null,
            "justify_items": null,
            "left": null,
            "margin": null,
            "max_height": null,
            "max_width": null,
            "min_height": null,
            "min_width": null,
            "object_fit": null,
            "object_position": null,
            "order": null,
            "overflow": null,
            "overflow_x": null,
            "overflow_y": null,
            "padding": null,
            "right": null,
            "top": null,
            "visibility": null,
            "width": null
          }
        },
        "a5e54111a41644d1ade5ad20c2321135": {
          "model_module": "@jupyter-widgets/base",
          "model_module_version": "1.2.0",
          "model_name": "LayoutModel",
          "state": {
            "_model_module": "@jupyter-widgets/base",
            "_model_module_version": "1.2.0",
            "_model_name": "LayoutModel",
            "_view_count": null,
            "_view_module": "@jupyter-widgets/base",
            "_view_module_version": "1.2.0",
            "_view_name": "LayoutView",
            "align_content": null,
            "align_items": null,
            "align_self": null,
            "border": null,
            "bottom": null,
            "display": null,
            "flex": null,
            "flex_flow": null,
            "grid_area": null,
            "grid_auto_columns": null,
            "grid_auto_flow": null,
            "grid_auto_rows": null,
            "grid_column": null,
            "grid_gap": null,
            "grid_row": null,
            "grid_template_areas": null,
            "grid_template_columns": null,
            "grid_template_rows": null,
            "height": null,
            "justify_content": null,
            "justify_items": null,
            "left": null,
            "margin": null,
            "max_height": null,
            "max_width": null,
            "min_height": null,
            "min_width": null,
            "object_fit": null,
            "object_position": null,
            "order": null,
            "overflow": null,
            "overflow_x": null,
            "overflow_y": null,
            "padding": null,
            "right": null,
            "top": null,
            "visibility": null,
            "width": null
          }
        },
        "aba977b1ad2d436ea340f72284cc27d1": {
          "model_module": "@jupyter-widgets/base",
          "model_module_version": "1.2.0",
          "model_name": "LayoutModel",
          "state": {
            "_model_module": "@jupyter-widgets/base",
            "_model_module_version": "1.2.0",
            "_model_name": "LayoutModel",
            "_view_count": null,
            "_view_module": "@jupyter-widgets/base",
            "_view_module_version": "1.2.0",
            "_view_name": "LayoutView",
            "align_content": null,
            "align_items": null,
            "align_self": null,
            "border": null,
            "bottom": null,
            "display": null,
            "flex": null,
            "flex_flow": null,
            "grid_area": null,
            "grid_auto_columns": null,
            "grid_auto_flow": null,
            "grid_auto_rows": null,
            "grid_column": null,
            "grid_gap": null,
            "grid_row": null,
            "grid_template_areas": null,
            "grid_template_columns": null,
            "grid_template_rows": null,
            "height": null,
            "justify_content": null,
            "justify_items": null,
            "left": null,
            "margin": null,
            "max_height": null,
            "max_width": null,
            "min_height": null,
            "min_width": null,
            "object_fit": null,
            "object_position": null,
            "order": null,
            "overflow": null,
            "overflow_x": null,
            "overflow_y": null,
            "padding": null,
            "right": null,
            "top": null,
            "visibility": null,
            "width": null
          }
        },
        "c6adad1f41c64441bbd40860ad93eae1": {
          "model_module": "@jupyter-widgets/controls",
          "model_module_version": "1.5.0",
          "model_name": "DescriptionStyleModel",
          "state": {
            "_model_module": "@jupyter-widgets/controls",
            "_model_module_version": "1.5.0",
            "_model_name": "DescriptionStyleModel",
            "_view_count": null,
            "_view_module": "@jupyter-widgets/base",
            "_view_module_version": "1.2.0",
            "_view_name": "StyleView",
            "description_width": ""
          }
        },
        "cf3806cf693241d0a37a3ecc46cde81a": {
          "model_module": "@jupyter-widgets/controls",
          "model_module_version": "1.5.0",
          "model_name": "HTMLModel",
          "state": {
            "_dom_classes": [],
            "_model_module": "@jupyter-widgets/controls",
            "_model_module_version": "1.5.0",
            "_model_name": "HTMLModel",
            "_view_count": null,
            "_view_module": "@jupyter-widgets/controls",
            "_view_module_version": "1.5.0",
            "_view_name": "HTMLView",
            "description": "",
            "description_tooltip": null,
            "layout": "IPY_MODEL_a14cf45fdf544ce688731941b9997ced",
            "placeholder": "​",
            "style": "IPY_MODEL_4a8816c811174595869035bc5a0be7ed",
            "value": "Downloading (…)lve/main/config.json: 100%"
          }
        },
        "e11702c268614f2f887153b255c14a1a": {
          "model_module": "@jupyter-widgets/base",
          "model_module_version": "1.2.0",
          "model_name": "LayoutModel",
          "state": {
            "_model_module": "@jupyter-widgets/base",
            "_model_module_version": "1.2.0",
            "_model_name": "LayoutModel",
            "_view_count": null,
            "_view_module": "@jupyter-widgets/base",
            "_view_module_version": "1.2.0",
            "_view_name": "LayoutView",
            "align_content": null,
            "align_items": null,
            "align_self": null,
            "border": null,
            "bottom": null,
            "display": null,
            "flex": null,
            "flex_flow": null,
            "grid_area": null,
            "grid_auto_columns": null,
            "grid_auto_flow": null,
            "grid_auto_rows": null,
            "grid_column": null,
            "grid_gap": null,
            "grid_row": null,
            "grid_template_areas": null,
            "grid_template_columns": null,
            "grid_template_rows": null,
            "height": null,
            "justify_content": null,
            "justify_items": null,
            "left": null,
            "margin": null,
            "max_height": null,
            "max_width": null,
            "min_height": null,
            "min_width": null,
            "object_fit": null,
            "object_position": null,
            "order": null,
            "overflow": null,
            "overflow_x": null,
            "overflow_y": null,
            "padding": null,
            "right": null,
            "top": null,
            "visibility": null,
            "width": null
          }
        },
        "e376d92cbe024ed08dc9a0224071bcf1": {
          "model_module": "@jupyter-widgets/base",
          "model_module_version": "1.2.0",
          "model_name": "LayoutModel",
          "state": {
            "_model_module": "@jupyter-widgets/base",
            "_model_module_version": "1.2.0",
            "_model_name": "LayoutModel",
            "_view_count": null,
            "_view_module": "@jupyter-widgets/base",
            "_view_module_version": "1.2.0",
            "_view_name": "LayoutView",
            "align_content": null,
            "align_items": null,
            "align_self": null,
            "border": null,
            "bottom": null,
            "display": null,
            "flex": null,
            "flex_flow": null,
            "grid_area": null,
            "grid_auto_columns": null,
            "grid_auto_flow": null,
            "grid_auto_rows": null,
            "grid_column": null,
            "grid_gap": null,
            "grid_row": null,
            "grid_template_areas": null,
            "grid_template_columns": null,
            "grid_template_rows": null,
            "height": null,
            "justify_content": null,
            "justify_items": null,
            "left": null,
            "margin": null,
            "max_height": null,
            "max_width": null,
            "min_height": null,
            "min_width": null,
            "object_fit": null,
            "object_position": null,
            "order": null,
            "overflow": null,
            "overflow_x": null,
            "overflow_y": null,
            "padding": null,
            "right": null,
            "top": null,
            "visibility": null,
            "width": null
          }
        },
        "f10e4f39eeb14bc2a4601eef0bbb0d2a": {
          "model_module": "@jupyter-widgets/controls",
          "model_module_version": "1.5.0",
          "model_name": "ProgressStyleModel",
          "state": {
            "_model_module": "@jupyter-widgets/controls",
            "_model_module_version": "1.5.0",
            "_model_name": "ProgressStyleModel",
            "_view_count": null,
            "_view_module": "@jupyter-widgets/base",
            "_view_module_version": "1.2.0",
            "_view_name": "StyleView",
            "bar_color": null,
            "description_width": ""
          }
        }
      }
    }
  },
  "nbformat": 4,
  "nbformat_minor": 0
}
