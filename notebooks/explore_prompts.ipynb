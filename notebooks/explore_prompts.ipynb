{
 "cells": [
  {
   "cell_type": "code",
   "execution_count": 9,
   "metadata": {},
   "outputs": [
    {
     "name": "stderr",
     "output_type": "stream",
     "text": [
      "Found cached dataset bigbench (/Users/sunil/.cache/huggingface/datasets/tasksource___bigbench/abstract_narrative_understanding/1.0.0/d9f074b582e19cb8b59cbcd48e43c1c15cf316f7c774c526da2bca369f786cc3)\n"
     ]
    }
   ],
   "source": [
    "from datasets import load_dataset\n",
    "\n",
    "dataset = load_dataset('tasksource/bigbench', 'abstract_narrative_understanding', split='train')"
   ]
  },
  {
   "attachments": {},
   "cell_type": "markdown",
   "metadata": {},
   "source": [
    "#### Test Prompt Templates"
   ]
  },
  {
   "cell_type": "code",
   "execution_count": 48,
   "metadata": {},
   "outputs": [
    {
     "name": "stdout",
     "output_type": "stream",
     "text": [
      "Question 0:\n",
      "Input: In what follows, we provide short narratives, each of which illustrates a common proverb. \n",
      "Narrative: He dresses in a gothic style: all black clothing, adorned with many spikes and chains, along with dark eyeliner. Most people gave him a wide berth for fear that he would be aggressive or melancholy. His close friends know him to be one of the sweetest, funniest guys they've ever met.\n",
      "This narrative is a good illustration of the following proverb:\n",
      "Options:\n",
      "Option 0: Cut your coat to suit your cloth\n",
      "Option 1: Never judge a book by its cover\n",
      "Option 2: A cat may look at a king\n",
      "Option 3: Silence is golden\n",
      "Option 4: The cobbler always wears the worst shoes\n",
      "Target(s):\n",
      "Never judge a book by its cover\n",
      "--------------------------------------------------\n",
      "Question 1:\n",
      "Input: In what follows, we provide short narratives, each of which illustrates a common proverb. \n",
      "Narrative: She always wanted to go on a vacation to a place on the other side of the world, but there was always something standing in her way: busy schedules, cold feet, and poor money-management. One day she was a part of a near fatal car crash. She swore that right after recovering she would go on the vacation that she almost never got the chance to.\n",
      "This narrative is a good illustration of the following proverb:\n",
      "Options:\n",
      "Option 0: Christmas comes but once a year\n",
      "Option 1: Live for today for tomorrow never comes\n",
      "Option 2: Money doesn't grow on trees\n",
      "Option 3: That which does not kill us makes us stronger\n",
      "Option 4: Laughter is the best medicine\n",
      "Target(s):\n",
      "Live for today for tomorrow never comes\n",
      "--------------------------------------------------\n",
      "Question 2:\n",
      "Input: In what follows, we provide short narratives, each of which illustrates a common proverb. \n",
      "Narrative: My brother gave a a gift to my son on his birthday which he initially didnt like him because it was tiny but when he opened it had a very good small app controlled drone with camera which he liked a lot and used it for making videos for his YouTube channel.\n",
      "This narrative is a good illustration of the following proverb:\n",
      "Options:\n",
      "Option 0: You are never too old to learn\n",
      "Option 1: Christmas comes but once a year\n",
      "Option 2: Little things please little minds\n",
      "Option 3: Great oaks from little acorns grow\n",
      "Option 4: Good things come in small packages\n",
      "Option 5: Seeing is believing\n",
      "Option 6: Life is what you make it\n",
      "Option 7: The apple never falls far from the tree\n",
      "Option 8: A golden key can open any door\n",
      "Option 9: The best things in life are free\n",
      "Target(s):\n",
      "Good things come in small packages\n",
      "--------------------------------------------------\n",
      "Question 3:\n",
      "Input: In what follows, we provide short narratives, each of which illustrates a common proverb. \n",
      "Narrative: Dwayne was a singer.  He went to a bar to party with his friends and got drunk.  In his drunken stupor, Dwayne put on a bikini top and danced on the bar.  Pictures of Dwayne got into the papers everywhere!  At first Dwayne was embarrassed, but then he realized that once his face was everywhere, people were buying his albums more than ever!\n",
      "This narrative is a good illustration of the following proverb:\n",
      "Options:\n",
      "Option 0: A prophet is not recognized in his own land\n",
      "Option 1: Flattery will get you nowhere\n",
      "Option 2: Bad news travels fast\n",
      "Option 3: Seek and you shall find\n",
      "Option 4: All publicity is good publicity\n",
      "Target(s):\n",
      "All publicity is good publicity\n",
      "--------------------------------------------------\n"
     ]
    }
   ],
   "source": [
    "# Following self-instruct prompt template (appendix of self-instruct paper):\n",
    "\n",
    "k_idx = [1,2,2021, 4]\n",
    "k = 4\n",
    "\n",
    "small_dataset = dataset.select(k_idx)\n",
    "\n",
    "new = \"\\n\"\n",
    "examples = []\n",
    "for i in range(len(small_dataset)):\n",
    "  data = small_dataset[i]\n",
    "  \n",
    "  options = data['multiple_choice_targets']\n",
    "  options = [f\"Option {j}: {o}{new}\" for j,o in enumerate(options)]\n",
    "  options = \"\".join(options)\n",
    "  \n",
    "  targets = data['targets']\n",
    "  targets = \"\\n\".join(targets)\n",
    "\n",
    "  example = f\"Question {i}:{new}Input: {data['inputs']}{new}Options:{new}{options}Target(s):{new}{targets}\"\n",
    "  examples.append(example)\n",
    "  print(example)\n",
    "  print('-'*50)"
   ]
  }
 ],
 "metadata": {
  "kernelspec": {
   "display_name": "ml",
   "language": "python",
   "name": "python3"
  },
  "language_info": {
   "codemirror_mode": {
    "name": "ipython",
    "version": 3
   },
   "file_extension": ".py",
   "mimetype": "text/x-python",
   "name": "python",
   "nbconvert_exporter": "python",
   "pygments_lexer": "ipython3",
   "version": "3.9.16"
  },
  "orig_nbformat": 4
 },
 "nbformat": 4,
 "nbformat_minor": 2
}
