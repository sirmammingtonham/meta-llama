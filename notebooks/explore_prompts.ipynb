{
 "cells": [
  {
   "cell_type": "code",
   "execution_count": 24,
   "metadata": {},
   "outputs": [
    {
     "name": "stderr",
     "output_type": "stream",
     "text": [
      "Found cached dataset bigbench (/Users/sunil/.cache/huggingface/datasets/tasksource___bigbench/cs_algorithms/1.0.0/d9f074b582e19cb8b59cbcd48e43c1c15cf316f7c774c526da2bca369f786cc3)\n"
     ]
    }
   ],
   "source": [
    "from datasets import load_dataset\n",
    "\n",
    "dataset = load_dataset('tasksource/bigbench', 'cs_algorithms', split='train')"
   ]
  },
  {
   "attachments": {},
   "cell_type": "markdown",
   "metadata": {},
   "source": [
    "#### Test Prompt Templates"
   ]
  },
  {
   "cell_type": "code",
   "execution_count": 25,
   "metadata": {},
   "outputs": [
    {
     "name": "stdout",
     "output_type": "stream",
     "text": [
      "Question 0:\n",
      "Input: Given two strings, determine the length of the longest common subsequence.\n",
      "\n",
      "Strings: ASZKZUPCKE ZJISW\n",
      "Length of longest common subsequence:\n",
      "Options:\n",
      "Option 0: 0\n",
      "Option 1: 1\n",
      "Option 2: 2\n",
      "Option 3: 3\n",
      "Option 4: 4\n",
      "Option 5: 5\n",
      "Option 6: 6\n",
      "Option 7: 7\n",
      "Option 8: 8\n",
      "Option 9: 9\n",
      "Target(s):\n",
      "1\n",
      "--------------------------------------------------\n",
      "Question 1:\n",
      "Input: Determine whether the given sequence of parentheses is properly matched.\n",
      "\n",
      "Sequence: [ [ { } ( ) { } ( ) ] ] ( ) ( [ ] { } )\n",
      "Valid/Invalid?\n",
      "Options:\n",
      "Option 0: Valid\n",
      "Option 1: Invalid\n",
      "Target(s):\n",
      "Valid\n",
      "--------------------------------------------------\n",
      "Question 2:\n",
      "Input: Determine whether the given sequence of parentheses is properly matched.\n",
      "\n",
      "Sequence: [ ) { ]\n",
      "Valid/Invalid?\n",
      "Options:\n",
      "Option 0: Valid\n",
      "Option 1: Invalid\n",
      "Target(s):\n",
      "Invalid\n",
      "--------------------------------------------------\n"
     ]
    }
   ],
   "source": [
    "# Following self-instruct prompt template (appendix of self-instruct paper):\n",
    "import numpy as np\n",
    "k_idx = np.random.randint(low=0, high=len(dataset), size=3).tolist()\n",
    "k = 4\n",
    "\n",
    "small_dataset = dataset.select(k_idx)\n",
    "\n",
    "new = \"\\n\"\n",
    "examples = []\n",
    "for i in range(len(small_dataset)):\n",
    "  data = small_dataset[i]\n",
    "  \n",
    "  options = data['multiple_choice_targets']\n",
    "  options = [f\"Option {j}: {o}{new}\" for j,o in enumerate(options)]\n",
    "  options = \"\".join(options)\n",
    "  \n",
    "  targets = data['targets']\n",
    "  targets = \"\\n\".join(targets)\n",
    "\n",
    "  example = f\"Question {i}:{new}Input: {data['inputs']}{new}Options:{new}{options}Target(s):{new}{targets}\"\n",
    "  examples.append(example)\n",
    "  print(example)\n",
    "  print('-'*50)"
   ]
  },
  {
   "cell_type": "code",
   "execution_count": 26,
   "metadata": {},
   "outputs": [
    {
     "name": "stderr",
     "output_type": "stream",
     "text": [
      "Creating json from Arrow format: 100%|██████████| 1/1 [00:00<00:00, 24.76ba/s]\n"
     ]
    },
    {
     "data": {
      "text/plain": [
       "792"
      ]
     },
     "execution_count": 26,
     "metadata": {},
     "output_type": "execute_result"
    }
   ],
   "source": [
    "small_dataset.to_json(\"test.json\")"
   ]
  },
  {
   "cell_type": "code",
   "execution_count": 30,
   "metadata": {},
   "outputs": [
    {
     "name": "stdout",
     "output_type": "stream",
     "text": [
      "3\n",
      "('Generate a series of 10 questions in a valid JSON format:\\n'\n",
      " 'Question 0:\\n'\n",
      " \"{'inputs': 'Given two strings, determine the length of the longest common \"\n",
      " 'subsequence.\\\\n\\\\nStrings: ASZKZUPCKE ZJISW\\\\nLength of longest common '\n",
      " \"subsequence:', 'targets': ['1'], 'multiple_choice_targets': ['0', '1', '2', \"\n",
      " \"'3', '4', '5', '6', '7', '8', '9']}\\n\"\n",
      " 'Question 1:\\n'\n",
      " \"{'inputs': 'Determine whether the given sequence of parentheses is properly \"\n",
      " 'matched.\\\\n\\\\nSequence: [ [ { } ( ) { } ( ) ] ] ( ) ( [ ] { } '\n",
      " \")\\\\nValid/Invalid?', 'targets': ['Valid'], 'multiple_choice_targets': \"\n",
      " \"['Valid', 'Invalid']}\\n\"\n",
      " 'Question 2:\\n'\n",
      " \"{'inputs': 'Determine whether the given sequence of parentheses is properly \"\n",
      " \"matched.\\\\n\\\\nSequence: [ ) { ]\\\\nValid/Invalid?', 'targets': ['Invalid'], \"\n",
      " \"'multiple_choice_targets': ['Valid', 'Invalid']}\\n\"\n",
      " 'Question 3:')\n"
     ]
    }
   ],
   "source": [
    "import json\n",
    "import pprint\n",
    "\n",
    "n_questions = 10\n",
    "keys = ['inputs', 'targets', 'multiple_choice_targets']\n",
    "\n",
    "ds_dict = small_dataset.to_dict() # each key has same amount of values want to map each value of each key with each other\n",
    "n_examples = len(ds_dict['inputs'])\n",
    "\n",
    "examples = []\n",
    "for i in range(n_examples):\n",
    "    example = {'inputs':\"\", 'targets':\"\", 'multiple_choice_targets':\"\"}\n",
    "    for key in keys:\n",
    "      example[key] = ds_dict[key][i]\n",
    "    examples.append(example)\n",
    "\n",
    "print(len(examples))\n",
    "prompt = f\"Generate a series of {n_questions} questions in a valid JSON format:\"\n",
    "for i, e in enumerate(examples):\n",
    "   prompt += f\"\\nQuestion {i}:\\n{e}\"\n",
    "\n",
    "prompt += f\"\\nQuestion {n_examples}:\"\n",
    "\n",
    "# create string prompt\n",
    "pprint.pprint(prompt)\n"
   ]
  },
  {
   "cell_type": "code",
   "execution_count": 14,
   "metadata": {},
   "outputs": [
    {
     "data": {
      "text/plain": [
       "dict_keys(['inputs', 'targets', 'multiple_choice_targets', 'multiple_choice_scores', 'idx'])"
      ]
     },
     "execution_count": 14,
     "metadata": {},
     "output_type": "execute_result"
    }
   ],
   "source": [
    "ds_dict.keys()"
   ]
  },
  {
   "attachments": {},
   "cell_type": "markdown",
   "metadata": {},
   "source": [
    "### Input / Output Chat Responses"
   ]
  },
  {
   "cell_type": "code",
   "execution_count": 33,
   "metadata": {},
   "outputs": [],
   "source": [
    "import openai\n",
    "import json\n",
    "from private import sk\n",
    "\n",
    "openai.api_key = sk\n",
    "completion = openai.ChatCompletion.create(\n",
    "                model='gpt-3.5-turbo',\n",
    "                messages=[{\"role\": \"system\", \"content\": prompt}],  # change role??\n",
    "                temperature=0,\n",
    "            )\n",
    "\n",
    "with open('icl_generation_example_response.json', 'w') as f:\n",
    "    json.dump(completion, f)"
   ]
  },
  {
   "cell_type": "code",
   "execution_count": 41,
   "metadata": {},
   "outputs": [
    {
     "data": {
      "text/plain": [
       "'In-context questions: 3; generate questions: 7'"
      ]
     },
     "execution_count": 41,
     "metadata": {},
     "output_type": "execute_result"
    }
   ],
   "source": [
    "with open('icl_generation_example_response.json', 'r') as f:\n",
    "  data = json.load(f)\n",
    "\n",
    "msg_content = data['choices'][0]['message']['content']\n",
    "generate_qs = msg_content.split(\"Question\")\n",
    "f\"In-context questions: {len(examples)}; generated questions: {len(generate_qs)}\"\n",
    "\n",
    "# print(data['choices'][0]['message']['content'])"
   ]
  },
  {
   "cell_type": "code",
   "execution_count": 78,
   "metadata": {},
   "outputs": [],
   "source": [
    "import ast \n",
    "\n",
    "generated_json_examples = []\n",
    "for i, q in enumerate(generate_qs):\n",
    "    if i == 0: # end of prompt = \"... Question i:\"\n",
    "        msg_dict = ast.literal_eval(q)\n",
    "    else: # cut off Question:\\n that comes before the {<json_question>}\n",
    "        q = q[q.find('\\n'):]\n",
    "        q = q.rstrip(\"\\n\")\n",
    "        msg_dict = ast.literal_eval(q)\n",
    "    generated_json_examples.append(msg_dict)\n",
    "\n",
    "with open(\"generated_questions.json\", \"a\") as f:\n",
    "    json.dump(generated_json_examples, f)"
   ]
  },
  {
   "cell_type": "code",
   "execution_count": 65,
   "metadata": {},
   "outputs": [
    {
     "name": "stdout",
     "output_type": "stream",
     "text": [
      " 5:\n",
      "{'inputs': 'Given a list of integers, find the second largest number.\\n\\nList: [1, 5, 3, 2, 4]\\nSecond largest number:', 'targets': ['4'], 'multiple_choice_targets': ['1', '2', '3', '4', '5']}\n",
      "\n"
     ]
    }
   ],
   "source": [
    "print(generate_qs[2])"
   ]
  },
  {
   "cell_type": "code",
   "execution_count": 66,
   "metadata": {},
   "outputs": [
    {
     "data": {
      "text/plain": [
       "\"{'inputs': 'Given a list of integers, find the maximum sum of any contiguous subarray.\\\\n\\\\nList: [1, -2, 3, 4, -5, 8]\\\\nMaximum sum:', 'targets': ['10'], 'multiple_choice_targets': ['-2', '3', '10', '12', '13']}\\nQuestion 4:\\n{'inputs': 'Given a string, determine whether it is a palindrome.\\\\n\\\\nString: racecar\\\\nPalindrome/Not Palindrome?', 'targets': ['Palindrome'], 'multiple_choice_targets': ['Palindrome', 'Not Palindrome']}\\nQuestion 5:\\n{'inputs': 'Given a list of integers, find the second largest number.\\\\n\\\\nList: [1, 5, 3, 2, 4]\\\\nSecond largest number:', 'targets': ['4'], 'multiple_choice_targets': ['1', '2', '3', '4', '5']}\\nQuestion 6:\\n{'inputs': 'Given a list of integers, find the sum of all even numbers.\\\\n\\\\nList: [1, 2, 3, 4, 5, 6, 7, 8, 9]\\\\nSum of even numbers:', 'targets': ['20'], 'multiple_choice_targets': ['10', '12', '14', '16', '18', '20']}\\nQuestion 7:\\n{'inputs': 'Given a list of integers, find the product of all odd numbers.\\\\n\\\\nList: [1, 2, 3, 4, 5, 6, 7, 8, 9]\\\\nProduct of odd numbers:', 'targets': ['945'], 'multiple_choice_targets': ['45', '105', '315', '945', '1260']}\\nQuestion 8:\\n{'inputs': 'Given a list of integers, find the median value.\\\\n\\\\nList: [1, 2, 3, 4, 5, 6, 7, 8, 9]\\\\nMedian value:', 'targets': ['5'], 'multiple_choice_targets': ['3', '4', '5', '6', '7']}\\nQuestion 9:\\n{'inputs': 'Given a list of integers, find the number that appears most frequently.\\\\n\\\\nList: [1, 2, 3, 4, 5, 6, 7, 8, 9, 2, 2, 3, 3, 3]\\\\nMost frequent number:', 'targets': ['3'], 'multiple_choice_targets': ['2', '3', '4', '5', '6']}\""
      ]
     },
     "execution_count": 66,
     "metadata": {},
     "output_type": "execute_result"
    }
   ],
   "source": [
    "msg_content"
   ]
  },
  {
   "cell_type": "code",
   "execution_count": null,
   "metadata": {},
   "outputs": [],
   "source": []
  }
 ],
 "metadata": {
  "kernelspec": {
   "display_name": "ml",
   "language": "python",
   "name": "python3"
  },
  "language_info": {
   "codemirror_mode": {
    "name": "ipython",
    "version": 3
   },
   "file_extension": ".py",
   "mimetype": "text/x-python",
   "name": "python",
   "nbconvert_exporter": "python",
   "pygments_lexer": "ipython3",
   "version": "3.9.16"
  },
  "orig_nbformat": 4
 },
 "nbformat": 4,
 "nbformat_minor": 2
}
